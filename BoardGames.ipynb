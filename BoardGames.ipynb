{
 "cells": [
  {
   "cell_type": "markdown",
   "metadata": {},
   "source": [
    "# Progetto per il corso di Applicazioni Data Intensive - A.A. 2019-2020\n",
    "_Giacomo Cavalieri - giacomo.cavalieri2@studio.unibo.it_"
   ]
  },
  {
   "cell_type": "markdown",
   "metadata": {},
   "source": [
    "### Indice\n",
    "- [Obiettivo del progetto](#Obiettivo-del-progetto)\n",
    "\n",
    "\n",
    "- [Preprocessing ed analisi](#Preprocessing-ed-analisi)\n",
    "    1. [Descrizione dei dataset](#1.-Descrizione-dei-dataset)\n",
    "    2. [Caricamento ed ottimizzazione](#2.-Caricamento-ed-ottimizzazione)\n",
    "    3. [Pulizia delle recensioni](#3.-Pulizia-delle-recensioni)\n",
    "    4. [Analisi dei dati](#4.-Analisi-dei-dati)  \n",
    "        4.1. [Lunghezza delle recensioni](#4.1.-Lunghezza-delle-recensioni)  \n",
    "        4.2. [Distribuzione dei voti](#4.2.-Distribuzione-dei-voti)  \n",
    "        4.3. [Possibili correlazioni fra variabili](#4.3.-Possibili-correlazioni-fra-variabili)  \n",
    "        4.4. [Pulizia dei dataset](#4.4.-Pulizia-dei-dataset)\n",
    "        \n",
    "        \n",
    "- [NLP](#NLP)\n",
    "    1. [Parole più ricorrenti](#1.-Parole-più-ricorrenti)\n",
    "    2. [Analisi dei bigram](#2.-Analisi-dei-bigram)\n",
    "\n",
    "\n",
    "- [Classificazione delle recensioni](#Classificazione-delle-recensioni)\n",
    "    1. [Valutazione dei modelli](#1.-Valutazione-dei-modelli)  \n",
    "    2. [Classificazione](#2.-Classificazione)  \n",
    "        2.1. [Con regressione logistica e monogram](#2.1.-Con-regressione-logistica-e-monogram)  \n",
    "        2.2. [Con regressione logistica e bigram](#2.2.-Con-regressione-logistica-e-bigram)  \n",
    "        2.3. [Con regressione logistica e stemming](#2.3.-Con-regressione-logistica-e-stemming)  \n",
    "        2.4. [Con decision tree](#2.4.-Con-decision-tree)\n",
    "    3. [Confronto con modelli di controllo](#3.-Confronto-con-modelli-di-controllo)  \n",
    "        3.1. [Classificatore \"stratified\"](#3.1.-Classificatore-\"stratified\")  \n",
    "        3.2. [Classificatore costante](#3.2.-Classificatore-costante)\n",
    "        \n",
    "\n",
    "- [Prestazioni sul test set](#Prestazioni-sul-test-set)\n",
    "\n",
    "\n",
    "- [Analisi della conoscenza appresa](#Analisi-della-conoscenza-appresa)  \n",
    "    1. [Modello di regressione con bigrams](#1.-Modello-di-regressione-con-bigrams)  \n",
    "    2. [Modello di regressione con bigrams e stemming](#2.-Modello-di-regressione-con-bigrams-e-stemming)  \n",
    "\n",
    "\n",
    "- [Conclusioni](#Conclusioni)\n",
    "    1. [Possibili sviluppi](#1.-Possibili-sviluppi)"
   ]
  },
  {
   "cell_type": "code",
   "execution_count": 1,
   "metadata": {},
   "outputs": [
    {
     "name": "stderr",
     "output_type": "stream",
     "text": [
      "[nltk_data] Downloading package punkt to\n",
      "[nltk_data]     /Users/giacomocavalieri/nltk_data...\n",
      "[nltk_data]   Package punkt is already up-to-date!\n",
      "[nltk_data] Downloading package stopwords to\n",
      "[nltk_data]     /Users/giacomocavalieri/nltk_data...\n",
      "[nltk_data]   Package stopwords is already up-to-date!\n"
     ]
    }
   ],
   "source": [
    "import matplotlib.pyplot as plt\n",
    "import nltk\n",
    "import numpy as np\n",
    "import os.path\n",
    "import pandas as pd\n",
    "import random\n",
    "import re\n",
    "import seaborn as sns\n",
    "import warnings\n",
    "\n",
    "from bs4 import BeautifulSoup\n",
    "from joblib import dump, load\n",
    "from nltk.tokenize import word_tokenize\n",
    "from nltk.stem import PorterStemmer\n",
    "from sklearn.dummy import DummyClassifier\n",
    "from sklearn.feature_extraction.text import CountVectorizer, TfidfVectorizer\n",
    "from sklearn.linear_model import LogisticRegression\n",
    "from sklearn.metrics import confusion_matrix, f1_score, make_scorer\n",
    "from sklearn.model_selection import train_test_split, StratifiedKFold, GridSearchCV\n",
    "from sklearn.pipeline import Pipeline\n",
    "from sklearn.tree import DecisionTreeClassifier\n",
    "\n",
    "plt.style.use(\"ggplot\")\n",
    "warnings.filterwarnings(\"ignore\")\n",
    "pd.set_option(\"max_colwidth\", None)\n",
    "\n",
    "nltk.download(\"punkt\");\n",
    "nltk.download(\"stopwords\");"
   ]
  },
  {
   "cell_type": "markdown",
   "metadata": {},
   "source": [
    "***\n",
    "# Obiettivo del progetto\n",
    "Negli ultimi anni il mercato dei giochi da tavolo ha vissuto una vera e propria <a href=\"https://www.theguardian.com/technology/2014/nov/25/board-games-internet-playstation-xbox\">rinascita</a>. Il numero di giochi pubblicati ogni anno è in crescita grazie ad una comunità attiva anche online; in particolare, il sito <a href=\"https://boardgamegeek.com\">Board Game Geek</a> rappresenta un importante aggregatore di informazioni su innumerevoli giochi da tavolo. \n",
    "\n",
    "Questo progetto si pone l'obiettivo di analizzare un database contenente oltre 2 milioni di recensioni raccolte da Board Game Geek (con relativo voto) per provare a predirre se la recensione di un gioco sarà positiva o negativa."
   ]
  },
  {
   "cell_type": "markdown",
   "metadata": {},
   "source": [
    "***\n",
    "# Preprocessing ed analisi \n",
    "I file utilizzati da questo notebook sono <a href=\"https://www.kaggle.com/jvanelteren/boardgamegeek-reviews?select=2019-05-02.csv\">`2019-05-02.csv`</a> e <a href=\"https://www.kaggle.com/jvanelteren/boardgamegeek-reviews?select=bgg-13m-reviews.csv\">`bgg-13m-reviews.csv`</a> scaricabili dal <a href=\"https://www.kaggle.com/jvanelteren/boardgamegeek-reviews\">seguente dataset di Kaggle</a>. Una volta scaricati i due file è necessario che si trovino nella stessa cartella del notebook."
   ]
  },
  {
   "cell_type": "markdown",
   "metadata": {},
   "source": [
    "## 1. Descrizione dei dataset\n",
    "Sono presenti 2 dataset in formato `.csv`: `2019-05-02.csv` e `bgg-13m-reviews.csv`:\n",
    "- `2019-05-02.csv` contiene informazioni su 17'000 giochi da tavolo raccolte dal famoso sito <a href=\"https://boardgamegeek.com\">Board Games Geek</a>, le colonne sono:\n",
    "    - `ID` un identificativo univoco assegnato a ciascun gioco\n",
    "    - `Name` il nome del gioco\n",
    "    - `Year` l'anno di pubblicazione del gioco\n",
    "    - `Average` la media dei voti ricevuti da un gioco\n",
    "    - `Bayes average` il <a href=\"https://boardgamegeek.com/wiki/page/BoardGameGeek_FAQ#toc13\">Geek rating</a> adottato da BGG\n",
    "    - `Users rated` il numero di utenti che hanno valutato il gioco\n",
    "    - `URL` link alla pagina del gioco\n",
    "    - `Thumbnail` link ad un thumbnail del gioco\n",
    "- `bgg-13m-reviews.csv` contiene 13 milioni di recensioni date da diversi utenti ai giochi riportati nel primo dataset. Le colonne sono:\n",
    "    - `user` il nickname dell'utente che ha scritto la recensione\n",
    "    - `rating` il voto assegnato\n",
    "    - `comment` un eventuale commento scritto\n",
    "    - `ID` l'identificativo del gioco recensito"
   ]
  },
  {
   "cell_type": "markdown",
   "metadata": {},
   "source": [
    "## 2. Caricamento ed ottimizzazione\n",
    "Un aspetto non trascurabile nell'analisi dei dataframe, è la loro occupazione di memoria. Spesso un'attenta ottimizzazione può fare la differenza fra la possibilità di contenere in memoria o meno un dataframe.\n",
    "\n",
    "Per questo motivo il primo passo è quello di leggere i dataframe sfruttando i tipi di dato più piccoli possibile adatti alla rappresentazione dei valori di ciascuna colonna. \n",
    "A puro scopo illustrativo è stata realizzata la funzione `read_df_with_stats` che, oltre a leggere e restituire il dataframe specificato, mostra il risparmio percentuale di memoria utilizzando le ottimizzazioni sui dati delle colonne passate come parametro."
   ]
  },
  {
   "cell_type": "code",
   "execution_count": 2,
   "metadata": {},
   "outputs": [],
   "source": [
    "def mem_usage(df):\n",
    "    \"\"\"Return the memory usage in MBs.\n",
    "       \n",
    "       Parameters:\n",
    "         - df: the dataframe whose memory occupation has to be computed\"\"\"\n",
    "    return df.memory_usage(deep=True).sum()/1024**2\n",
    "    \n",
    "def mem_saved(unoptimized, optimized):\n",
    "    return 100 * (unoptimized - optimized) / unoptimized\n",
    "\n",
    "def read_df_mem_usage(path, optimized_dtypes, stats=True):\n",
    "    \"\"\"Reads a Pandas DataFrame (stored in a .csv file) from the specified path outputting some\n",
    "       statistics about its memory usage.\n",
    "       \n",
    "       Parameters:\n",
    "         - path: the path of the .csv file to read as a dataframe\n",
    "         - optimized_dtypes: a Python dictionary {col_name: type} whose keys will be the\n",
    "                             columns of the dataframe and values the corresponding dtypes\n",
    "         - stats: True if the function has to also load an unoptimized version of the\n",
    "                  dataset to show more data about memory usage\n",
    "        \n",
    "       Returns:\n",
    "         A dataframe read from the csv specified in path.\"\"\"\n",
    "    if stats:\n",
    "        # Read the unoptimized dataframe\n",
    "        unoptimized = pd.read_csv(path, usecols=optimized_dtypes.keys())\n",
    "        unoptimized_mem = mem_usage(unoptimized)\n",
    "        print(f\"Memory used by unoptimized dataframe:\\t{unoptimized_mem:.5} MB\")\n",
    "        del(unoptimized)\n",
    "    \n",
    "    # Read the optimized dataframe (i.e. use the provided columns dtypes)\n",
    "    optimized = pd.read_csv(path, usecols=optimized_dtypes.keys(), dtype=optimized_dtypes)\n",
    "    optimized_mem = mem_usage(optimized)\n",
    "    print(f\"Memory used by optimized dataframe:\\t{optimized_mem:.5f} MB\")\n",
    "    \n",
    "    if stats:\n",
    "        print(f\"Memory reduction with optimization:\\t{mem_saved(unoptimized_mem, optimized_mem):.5f}%\")\n",
    "\n",
    "    return optimized"
   ]
  },
  {
   "cell_type": "code",
   "execution_count": 3,
   "metadata": {},
   "outputs": [
    {
     "name": "stdout",
     "output_type": "stream",
     "text": [
      "-- Reading games dataframe\n",
      "Memory used by unoptimized dataframe:\t5.9337 MB\n",
      "Memory used by optimized dataframe:\t0.65110 MB\n",
      "Memory reduction with optimization:\t89.02709%\n"
     ]
    }
   ],
   "source": [
    "games_cols = {\n",
    "    \"ID\": np.uint32,             # unsigned integer in range [1, 272'409]\n",
    "    \"Name\": \"string\",\n",
    "    \"Year\": np.uint16,\n",
    "    \"Rank\": np.uint16,           # unsigned integer in range [1, 17'065]\n",
    "    \"Average\": np.float16,       # floating point number in range [1, 10]\n",
    "    \"Bayes average\": np.float16, # floating point number in range [1, 10]\n",
    "    \"Users rated\": np.uint32,    # unsigned integer in range [30, 84'736]\n",
    "    \"URL\": \"string\",\n",
    "    \"Thumbnail\": \"string\"\n",
    "}\n",
    "print(\"-- Reading games dataframe\")\n",
    "games = read_df_mem_usage(\"./2019-05-02.csv\", games_cols)"
   ]
  },
  {
   "cell_type": "markdown",
   "metadata": {},
   "source": [
    "Si può notare un ottimo risparmio, vicino al 90%.\n",
    "\n",
    "A questo punto viene letto il dataframe contenente le recensioni. Queste sono 13 milioni, dunque la lettura potrebbe richiedere diversi secondi. Inoltre, non vengono stampate le statistiche per la versione non ottimizzata in memoria che occuperebbe all'incirca **3GB**. È quindi evidente il notevole risparmio di memoria dato che il dataframe ottimizzato occupa 276MB.\n",
    "Poiché l'obiettivo del progetto è quello di analizzare il testo delle recensioni, vengono immediatamente scartate quelle il cui campo `comment` è `NA`."
   ]
  },
  {
   "cell_type": "code",
   "execution_count": 4,
   "metadata": {},
   "outputs": [
    {
     "name": "stdout",
     "output_type": "stream",
     "text": [
      "-- Reading reviews dataframe\n",
      "Memory used by optimized dataframe:\t276.31925 MB\n"
     ]
    }
   ],
   "source": [
    "reviews_cols = {\n",
    "    \"user\": \"string\",\n",
    "    \"rating\": np.float16,\n",
    "    \"comment\": \"string\",\n",
    "    \"ID\": np.uint32\n",
    "}\n",
    "print(\"-- Reading reviews dataframe\")\n",
    "reviews = read_df_mem_usage(\"./bgg-13m-reviews.csv\", reviews_cols, stats=False)\n",
    "reviews.dropna(inplace=True)"
   ]
  },
  {
   "cell_type": "markdown",
   "metadata": {},
   "source": [
    "Pur avendo eliminato le recensioni con testo mancante il dataframe ha comunque una dimensione considerevole con oltre 2 milioni di record."
   ]
  },
  {
   "cell_type": "code",
   "execution_count": 5,
   "metadata": {},
   "outputs": [
    {
     "name": "stdout",
     "output_type": "stream",
     "text": [
      "2637756\n"
     ]
    }
   ],
   "source": [
    "print(len(reviews))"
   ]
  },
  {
   "cell_type": "markdown",
   "metadata": {},
   "source": [
    "## 3. Pulizia delle recensioni\n",
    "\n",
    "Si può osservare come le recensioni possano contenere elementi di HTML o contenuti fra parentesi quadre (si veda il primo esempio):"
   ]
  },
  {
   "cell_type": "code",
   "execution_count": 6,
   "metadata": {},
   "outputs": [
    {
     "name": "stdout",
     "output_type": "stream",
     "text": [
      "[b]Purchase/Selling History:[/b]   [b]Rating: 5.5[...\n",
      "<b><u>Pros</u></b><br> - Random board<br> - Tradin...\n"
     ]
    }
   ],
   "source": [
    "def preview_string(string, length=50):\n",
    "    print(string[:50], end=\"...\\n\")\n",
    "    \n",
    "preview_string(reviews.loc[11446554][\"comment\"])\n",
    "preview_string(reviews.loc[38225][\"comment\"])"
   ]
  },
  {
   "cell_type": "markdown",
   "metadata": {},
   "source": [
    "La seguente funzione sfrutta il parser di HTML <a href=\"https://www.crummy.com/software/BeautifulSoup/bs4/doc/\">BeautifulSoup</a> per ottenere il contenuto all'interno dei tag; dopodiché il testo fra parentesi quadre è rimosso grazie a un'espressione regex. \n",
    "\n",
    "Inoltre, vengono rimossi tutti i caratteri speciali e appartenenti ad alfabeti diversi da quello inglese; infatti, diverse recensioni sono scritte in cinese, giapponese, coreano e russo. La tokenizzazione degli alfabeti orientali comporterebbe ulteriori problemi che non vengono affrontati in questa analisi limitata ai commenti in inglese."
   ]
  },
  {
   "cell_type": "code",
   "execution_count": 7,
   "metadata": {},
   "outputs": [],
   "source": [
    "def clean_text(text):\n",
    "    text = BeautifulSoup(text, \"html.parser\").get_text() # Remove HTML tags\n",
    "    text = re.sub(\"\\[[^]]*\\]\", \"\", text)        # Remove text inside square brackets\n",
    "    # Remove all digits and special charachters that do not appear in English alphabet\n",
    "    return re.sub(r\"[^a-zA-z\\s]\", \"\", text)"
   ]
  },
  {
   "cell_type": "markdown",
   "metadata": {},
   "source": [
    "Questa funzione potrà essere utilizzata in seguito prima di effettuare la tokenizzazione del testo. Si può osservare il risultato applicato ai commenti visti sopra:"
   ]
  },
  {
   "cell_type": "code",
   "execution_count": 8,
   "metadata": {
    "scrolled": false
   },
   "outputs": [
    {
     "name": "stdout",
     "output_type": "stream",
     "text": [
      "PurchaseSelling History   Rating  Design rating  C...\n",
      "Pros  Random board  Trading  piece placement strat...\n"
     ]
    }
   ],
   "source": [
    "preview_string(clean_text(reviews.loc[11446554][\"comment\"]))\n",
    "preview_string(clean_text(reviews.loc[38225][\"comment\"]))"
   ]
  },
  {
   "cell_type": "markdown",
   "metadata": {},
   "source": [
    "## 4. Analisi dei dati"
   ]
  },
  {
   "cell_type": "markdown",
   "metadata": {},
   "source": [
    "### 4.1. Lunghezza delle recensioni\n",
    "\n",
    "Si può osservare che la lunghezza media dei commmenti è di circa 200 caratteri e la metà dei commenti supera i 120 caratteri. Inoltre la lunghezza minima è di un solo carattere (bisognerà eliminare questi commenti poco significativi) mentre quella massima è oltre i 26'000 caratteri."
   ]
  },
  {
   "cell_type": "code",
   "execution_count": 9,
   "metadata": {},
   "outputs": [
    {
     "data": {
      "text/plain": [
       "count    2.637756e+06\n",
       "mean     2.124792e+02\n",
       "std      3.341133e+02\n",
       "min      1.000000e+00\n",
       "25%      5.200000e+01\n",
       "50%      1.210000e+02\n",
       "75%      2.490000e+02\n",
       "max      2.654400e+04\n",
       "Name: comment, dtype: float64"
      ]
     },
     "execution_count": 9,
     "metadata": {},
     "output_type": "execute_result"
    }
   ],
   "source": [
    "lengths = reviews[\"comment\"].str.len()\n",
    "lengths.describe()"
   ]
  },
  {
   "cell_type": "code",
   "execution_count": 10,
   "metadata": {},
   "outputs": [
    {
     "data": {
      "text/plain": [
       "(121.0, 698.0)"
      ]
     },
     "execution_count": 10,
     "metadata": {},
     "output_type": "execute_result"
    }
   ],
   "source": [
    "np.quantile(lengths, 0.5), np.quantile(lengths, 0.95)"
   ]
  },
  {
   "cell_type": "markdown",
   "metadata": {},
   "source": [
    "Il 90% dei valori ha una lunghezza compresa fra i 120 e 700 caratteri; dunque commenti estremamente lunghi sono degli _outliers_."
   ]
  },
  {
   "cell_type": "code",
   "execution_count": 11,
   "metadata": {},
   "outputs": [
    {
     "data": {
      "image/png": "[encoded data removed]",
      "text/plain": [
       "<Figure size 1080x360 with 2 Axes>"
      ]
     },
     "metadata": {},
     "output_type": "display_data"
    }
   ],
   "source": [
    "plt.figure(figsize=(15,5))\n",
    "\n",
    "# First subplot with all data\n",
    "plt.subplot(121)\n",
    "plt.title(\"Lunghezza di tutti i commenti\")\n",
    "plt.xlabel(\"review length\")\n",
    "plt.ylabel(\"# reviews (log scale)\")\n",
    "lengths.hist(bins=85, log=True);\n",
    "\n",
    "plt.subplot(122)\n",
    "lengths.plot.box(vert=False);"
   ]
  },
  {
   "cell_type": "markdown",
   "metadata": {},
   "source": [
    "### 4.2. Distribuzione dei voti\n",
    "\n",
    "Si può osservare come la maggior parte dei voti sia distribuita fra 6 e 8. Solo una porzione più piccola è fortemente negativa (< 4)."
   ]
  },
  {
   "cell_type": "code",
   "execution_count": 12,
   "metadata": {},
   "outputs": [
    {
     "data": {
      "image/png": "[encoded data removed]",
      "text/plain": [
       "<Figure size 1080x360 with 1 Axes>"
      ]
     },
     "metadata": {},
     "output_type": "display_data"
    },
    {
     "data": {
      "image/png": "[encoded data removed]",
      "text/plain": [
       "<Figure size 1080x360 with 2 Axes>"
      ]
     },
     "metadata": {},
     "output_type": "display_data"
    }
   ],
   "source": [
    "reviews_by_user = reviews.groupby(by=\"user\").count()\n",
    "reviews_by_game = reviews.groupby(by=\"ID\").count()\n",
    "\n",
    "plt.figure(figsize=(15,5))\n",
    "plt.title(\"Distribuzione dei voti\")\n",
    "plt.xlabel(\"rating\")\n",
    "plt.ylabel(\"# reviews\")\n",
    "reviews[\"rating\"].hist(bins=10);\n",
    "\n",
    "plt.figure(figsize=(15,5))\n",
    "plt.subplot(121)\n",
    "plt.title(\"Voti scritti da ogni utente\")\n",
    "plt.xlabel(\"# reviews per user\")\n",
    "plt.ylabel(\"# users (log scale)\")\n",
    "reviews_by_user[\"rating\"].hist(bins=20, log=True);\n",
    "\n",
    "plt.subplot(122)\n",
    "plt.title(\"Voti dati a ogni gioco\")\n",
    "plt.xlabel(\"# reviews per game\")\n",
    "plt.ylabel(\"# games  (log scale)\")\n",
    "reviews_by_game[\"rating\"].hist(bins=20, log=True);"
   ]
  },
  {
   "cell_type": "markdown",
   "metadata": {},
   "source": [
    "La maggior parte degli utenti ha dato meno di 20 valutazioni, mentre la maggior parte dei giochi ha ricevuto meno di un centinaio di recensioni. In generale, quindi, un utente fornisce poche valutazioni e sono pochi gli utenti più attivi che hanno recensito molti giochi; il numero massimo di recensioni scritte da un solo utente è di 3503!"
   ]
  },
  {
   "cell_type": "code",
   "execution_count": 13,
   "metadata": {
    "scrolled": false
   },
   "outputs": [
    {
     "data": {
      "text/html": [
       "<div>\n",
       "<style scoped>\n",
       "    .dataframe tbody tr th:only-of-type {\n",
       "        vertical-align: middle;\n",
       "    }\n",
       "\n",
       "    .dataframe tbody tr th {\n",
       "        vertical-align: top;\n",
       "    }\n",
       "\n",
       "    .dataframe thead th {\n",
       "        text-align: right;\n",
       "    }\n",
       "</style>\n",
       "<table border=\"1\" class=\"dataframe\">\n",
       "  <thead>\n",
       "    <tr style=\"text-align: right;\">\n",
       "      <th></th>\n",
       "      <th>reviews by user</th>\n",
       "      <th>reviews by game</th>\n",
       "    </tr>\n",
       "  </thead>\n",
       "  <tbody>\n",
       "    <tr>\n",
       "      <th>count</th>\n",
       "      <td>115243.000000</td>\n",
       "      <td>17058.000000</td>\n",
       "    </tr>\n",
       "    <tr>\n",
       "      <th>mean</th>\n",
       "      <td>22.888644</td>\n",
       "      <td>154.634541</td>\n",
       "    </tr>\n",
       "    <tr>\n",
       "      <th>std</th>\n",
       "      <td>72.908512</td>\n",
       "      <td>515.450229</td>\n",
       "    </tr>\n",
       "    <tr>\n",
       "      <th>min</th>\n",
       "      <td>1.000000</td>\n",
       "      <td>1.000000</td>\n",
       "    </tr>\n",
       "    <tr>\n",
       "      <th>25%</th>\n",
       "      <td>1.000000</td>\n",
       "      <td>15.000000</td>\n",
       "    </tr>\n",
       "    <tr>\n",
       "      <th>50%</th>\n",
       "      <td>3.000000</td>\n",
       "      <td>31.000000</td>\n",
       "    </tr>\n",
       "    <tr>\n",
       "      <th>75%</th>\n",
       "      <td>15.000000</td>\n",
       "      <td>91.000000</td>\n",
       "    </tr>\n",
       "    <tr>\n",
       "      <th>90%</th>\n",
       "      <td>51.000000</td>\n",
       "      <td>306.000000</td>\n",
       "    </tr>\n",
       "    <tr>\n",
       "      <th>max</th>\n",
       "      <td>3503.000000</td>\n",
       "      <td>14267.000000</td>\n",
       "    </tr>\n",
       "  </tbody>\n",
       "</table>\n",
       "</div>"
      ],
      "text/plain": [
       "       reviews by user  reviews by game\n",
       "count    115243.000000     17058.000000\n",
       "mean         22.888644       154.634541\n",
       "std          72.908512       515.450229\n",
       "min           1.000000         1.000000\n",
       "25%           1.000000        15.000000\n",
       "50%           3.000000        31.000000\n",
       "75%          15.000000        91.000000\n",
       "90%          51.000000       306.000000\n",
       "max        3503.000000     14267.000000"
      ]
     },
     "execution_count": 13,
     "metadata": {},
     "output_type": "execute_result"
    }
   ],
   "source": [
    "aggr = pd.concat([pd.DataFrame(reviews_by_user[\"rating\"].describe(percentiles=[0.25,0.5,0.75,0.9])), \n",
    "                  pd.DataFrame(reviews_by_game[\"rating\"].describe(percentiles=[0.25,0.5,0.75,0.9]))], axis=1)\n",
    "aggr.columns = [\"reviews by user\", \"reviews by game\"]\n",
    "aggr"
   ]
  },
  {
   "cell_type": "markdown",
   "metadata": {},
   "source": [
    "### 4.3. Possibili correlazioni fra variabili\n",
    "In seguito si analizzano i dati per vedere se sono presenti nel dataset `games` eventuali correlazioni, che potrebbero essere sfruttate da semplici algoritmi di regressione senza ricorrere al NLP (per esempio fra il numero di recensioni e il voto ricevuto da un gioco). Dato che la colonna `Rank` del dataframe viene utilizzata per ordinare i giochi in base alla valutazione questa sarebbe ovviamente fortemente correlata con le misure `Bayes average` e `Average`, quindi viene scartata."
   ]
  },
  {
   "cell_type": "code",
   "execution_count": 14,
   "metadata": {},
   "outputs": [
    {
     "data": {
      "image/png": "[encoded data removed]",
      "text/plain": [
       "<Figure size 432x288 with 2 Axes>"
      ]
     },
     "metadata": {},
     "output_type": "display_data"
    }
   ],
   "source": [
    "sns.heatmap(games.drop([\"ID\", \"Rank\"], axis=1).corr(), annot=True, cmap='coolwarm');"
   ]
  },
  {
   "cell_type": "markdown",
   "metadata": {},
   "source": [
    "Ovviamente la media e la media di Bayes sono fra loro correlate, tuttavia tale correlazione non può essere sfruttata in quanto rappresentano entrambe un dato che si vuole prevedere e non si conosce a priori: la valutazione del gioco.\n",
    "La stessa correlazione positiva fra il numero di utenti che hanno valutato un gioco e la media di Bayes è da considerarsi non particolarmente significativa proprio perché, in virtù della definizione stessa di tale metrica, questa sarà più bassa per giochi con poche recensioni. "
   ]
  },
  {
   "cell_type": "markdown",
   "metadata": {},
   "source": [
    "### 4.4. Pulizia dei dataset\n",
    "Per ridurre la dimensione dei dataset sono stati seguiti i seguenti passi:\n",
    "- Rimozione di tutti i giochi per i quali sono presenti meno di 15 recensioni\n",
    "- Rimozione di tutti gli utenti che hanno lasciato meno di 50 recensioni \n",
    "- Rimozione di tutti i commenti più corti di 52 caratteri (25° percentile)\n",
    "- Rimozione di tutte le recensioni riferite a un gioco o un utente eliminato\n",
    "\n",
    "Si fa l'assunzione semplificativa (non necessariamente vera) che le recensioni degli utenti che ne hanno scritte molte siano più attendibili di utenti casuali che hanno lasciato poche recensioni."
   ]
  },
  {
   "cell_type": "code",
   "execution_count": 15,
   "metadata": {},
   "outputs": [],
   "source": [
    "games_to_remove = reviews_by_game[reviews_by_game[\"rating\"] < 15].index\n",
    "users_to_remove = reviews_by_user[reviews_by_user[\"rating\"] < 50].index\n",
    "reviews_to_keep = lengths >= 50\n",
    "\n",
    "games_cleaned = games[~games[\"ID\"].isin(games_to_remove)]\n",
    "reviews_cleaned = reviews[reviews[\"ID\"].isin(games_cleaned[\"ID\"]) & \n",
    "                          (~reviews[\"user\"].isin(users_to_remove)) &\n",
    "                          reviews_to_keep]"
   ]
  },
  {
   "cell_type": "code",
   "execution_count": 16,
   "metadata": {},
   "outputs": [
    {
     "name": "stdout",
     "output_type": "stream",
     "text": [
      "Riduzione del 24.01%\n",
      "Numero di recensioni nel dataset modificato: 12967\n"
     ]
    }
   ],
   "source": [
    "print(f\"Riduzione del {100 * (len(games) - len(games_cleaned)) / len(games):.2f}%\")\n",
    "print(f\"Numero di recensioni nel dataset modificato: {len(games_cleaned)}\")"
   ]
  },
  {
   "cell_type": "code",
   "execution_count": 17,
   "metadata": {},
   "outputs": [
    {
     "name": "stdout",
     "output_type": "stream",
     "text": [
      "Riduzione del 45.09%\n",
      "Numero di recensioni nel dataset modificato: 1448348\n"
     ]
    }
   ],
   "source": [
    "print(f\"Riduzione del {100 * (len(reviews) - len(reviews_cleaned)) / len(reviews):.2f}%\")\n",
    "print(f\"Numero di recensioni nel dataset modificato: {len(reviews_cleaned)}\")"
   ]
  },
  {
   "cell_type": "markdown",
   "metadata": {},
   "source": [
    "In questo modo il numero di recensioni è stato ridotto all'incirca del 45%."
   ]
  },
  {
   "cell_type": "markdown",
   "metadata": {},
   "source": [
    "***\n",
    "# NLP\n",
    "\n",
    "In seguito verranno analizzate nel dettaglio le recensioni da un punto di vista dell'analisi del linguaggio naturale. Vengono innanzitutto modificate tutte le recensioni applicandovi la funzione di pulizia del testo riportata [sopra](#3.-Pulizia-delle-recensioni)."
   ]
  },
  {
   "cell_type": "code",
   "execution_count": 18,
   "metadata": {},
   "outputs": [],
   "source": [
    "reviews_cleaned[\"comment\"] = reviews_cleaned[\"comment\"].apply(lambda x: clean_text(x))"
   ]
  },
  {
   "cell_type": "markdown",
   "metadata": {},
   "source": [
    "A questo punto potrebbe essere necessario rimuovere altre recensioni la cui lunghezza, dopo la pulizia, sia scesa sotto una certa soglia. In particolare tutte le recensioni che adottano alfabeti diversi da quello inglese saranno state ridotte ad una stringa vuota."
   ]
  },
  {
   "cell_type": "code",
   "execution_count": 19,
   "metadata": {},
   "outputs": [],
   "source": [
    "lengths_cleaned = reviews_cleaned[\"comment\"].apply(lambda x: len(x))\n",
    "reviews_cleaned = reviews_cleaned[lengths_cleaned >= 50]"
   ]
  },
  {
   "cell_type": "markdown",
   "metadata": {},
   "source": [
    "## 1. Parole più ricorrenti\n",
    "Viene inizialmente fatta un'analisi delle parole più ricorrenti. A tale scopo viene utilizzato un semplice `CountVectorizer` senza uso del tokenizer di `nltk`, lemmatizzazione o stemming. Viene considerato un campione di 100'000 commenti per ridurre i tempi di esecuzione, l'analisi è comunque indicativa delle parole più ricorrenti."
   ]
  },
  {
   "cell_type": "code",
   "execution_count": 20,
   "metadata": {},
   "outputs": [],
   "source": [
    "comments_to_analyse = reviews_cleaned[\"comment\"].sample(100_000, random_state=11)\n",
    "count_vectorizer = CountVectorizer()\n",
    "vecs = count_vectorizer.fit_transform(comments_to_analyse)"
   ]
  },
  {
   "cell_type": "code",
   "execution_count": 21,
   "metadata": {},
   "outputs": [],
   "source": [
    "def top_k_words(vecs, words, k=10):\n",
    "    \"\"\"Return the top k words from a sparse matrix obtained through a vectorizer.\n",
    "    \n",
    "       Parameters:\n",
    "         - vecs: the (sparse) matrix representing the vectorized words\n",
    "         - words: the list of words corresponding to each row of the matrix\n",
    "         \n",
    "       Returns:\n",
    "         A sorted list of pairs (word, counts).\"\"\"\n",
    "    words_count = vecs.sum(axis=0)\n",
    "    words_count = [(word, words_count[0, i]) for i, word in enumerate(words)]\n",
    "    return sorted(words_count, key = lambda x: x[1], reverse=True)[:(k if k > 0 else None)]"
   ]
  },
  {
   "cell_type": "code",
   "execution_count": 22,
   "metadata": {},
   "outputs": [
    {
     "data": {
      "text/plain": [
       "[('the', 249990),\n",
       " ('to', 142466),\n",
       " ('and', 126665),\n",
       " ('game', 126347),\n",
       " ('of', 113095),\n",
       " ('it', 89696),\n",
       " ('is', 85563),\n",
       " ('this', 64661),\n",
       " ('but', 58111),\n",
       " ('in', 56477)]"
      ]
     },
     "execution_count": 22,
     "metadata": {},
     "output_type": "execute_result"
    }
   ],
   "source": [
    "top_k_words(vecs, count_vectorizer.get_feature_names())"
   ]
  },
  {
   "cell_type": "markdown",
   "metadata": {},
   "source": [
    "Si può osservare come, delle 10 parole più utilizzate, la maggior parte siano delle *stopwords*. Per questo, il passo successivo dell'analisi consiste nella loro rimozione:"
   ]
  },
  {
   "cell_type": "code",
   "execution_count": 23,
   "metadata": {},
   "outputs": [],
   "source": [
    "count_vectorizer = CountVectorizer(stop_words=nltk.corpus.stopwords.words(\"english\"))\n",
    "vecs = count_vectorizer.fit_transform(comments_to_analyse)"
   ]
  },
  {
   "cell_type": "code",
   "execution_count": 24,
   "metadata": {},
   "outputs": [
    {
     "data": {
      "text/plain": [
       "[('game', 126347),\n",
       " ('play', 37647),\n",
       " ('like', 28149),\n",
       " ('one', 25047),\n",
       " ('fun', 23591),\n",
       " ('games', 20111),\n",
       " ('good', 19518),\n",
       " ('players', 19331),\n",
       " ('really', 18653),\n",
       " ('cards', 17958)]"
      ]
     },
     "execution_count": 24,
     "metadata": {},
     "output_type": "execute_result"
    }
   ],
   "source": [
    "top_k_words(vecs, count_vectorizer.get_feature_names(), 10)"
   ]
  },
  {
   "cell_type": "markdown",
   "metadata": {},
   "source": [
    "Si possono notare alcune parole molto ricorrenti le quali, considerando che si stanno analizzando recensioni a giochi da tavolo, non aggiungono alcun significato se prese singolarmente (e.g. \"game\", \"play\", \"games\", \"cards\", \"players\", ...). Queste, nel caso in cui non vengano utilizzati i bigram, saranno inserite nelle _stopwords_.\n",
    "Inoltre sono presenti diverse parole con le stesse radici (e.g. \"game\"/\"games\", \"play\"/\"player\"/\"played\", ...), in seguito, quindi, si cercherà di capire se l'adozione di stemming può portare a dei vantaggi nella classificazione.\n",
    "\n",
    "Analizzando le parole meno frequenti si possono notare molti termini con errori o senza senso. Per questo motivo successivamente si verificherà se l'uso di una soglia maggiore per `min_df` possa portare dei vantaggi."
   ]
  },
  {
   "cell_type": "code",
   "execution_count": 25,
   "metadata": {},
   "outputs": [
    {
     "data": {
      "text/plain": [
       "[('zwemmend', 1),\n",
       " ('zwemmers', 1),\n",
       " ('zwingend', 1),\n",
       " ('zwischenzug', 1),\n",
       " ('zwitter', 1),\n",
       " ('zwizanego', 1),\n",
       " ('zwlf', 1),\n",
       " ('zwngen', 1),\n",
       " ('zww', 1),\n",
       " ('zwycistwa', 1)]"
      ]
     },
     "execution_count": 25,
     "metadata": {},
     "output_type": "execute_result"
    }
   ],
   "source": [
    "top_k_words(vecs, count_vectorizer.get_feature_names(), -1)[-20:-10]"
   ]
  },
  {
   "cell_type": "markdown",
   "metadata": {},
   "source": [
    "## 2. Analisi dei bigram\n",
    "Si considerano adesso i bigram per vedere se possono avere informazioni significative."
   ]
  },
  {
   "cell_type": "code",
   "execution_count": 26,
   "metadata": {},
   "outputs": [],
   "source": [
    "count_vectorizer = CountVectorizer(stop_words=nltk.corpus.stopwords.words(\"english\"), ngram_range=(2,2))\n",
    "vecs = count_vectorizer.fit_transform(comments_to_analyse)"
   ]
  },
  {
   "cell_type": "code",
   "execution_count": 27,
   "metadata": {},
   "outputs": [
    {
     "data": {
      "text/plain": [
       "[('good game', 2999),\n",
       " ('great game', 2609),\n",
       " ('game play', 2564),\n",
       " ('card game', 2551),\n",
       " ('fun game', 2377),\n",
       " ('player game', 2123),\n",
       " ('like game', 1993),\n",
       " ('ive played', 1832),\n",
       " ('worker placement', 1691),\n",
       " ('play game', 1616)]"
      ]
     },
     "execution_count": 27,
     "metadata": {},
     "output_type": "execute_result"
    }
   ],
   "source": [
    "top_k_words(vecs, count_vectorizer.get_feature_names(), 10)"
   ]
  },
  {
   "cell_type": "markdown",
   "metadata": {},
   "source": [
    "Si può notare come ci siano diversi bigram che sembrano essere particolarmente significativi come `\"good game\"`, `\"great game\"` o `\"fun game\"`. In questo caso inserire parole come \"game\" fra le _stopwords_ porterebbe a perdere tali bigram, per questo motivo sono preparati due set di _stopwords_ distinti."
   ]
  },
  {
   "cell_type": "code",
   "execution_count": 28,
   "metadata": {},
   "outputs": [],
   "source": [
    "stopwords_mono = nltk.corpus.stopwords.words(\"english\") + [\"game\", \"games\", \"player\", \"players\", \"play\"]\n",
    "stopwords_bi = nltk.corpus.stopwords.words(\"english\")"
   ]
  },
  {
   "cell_type": "markdown",
   "metadata": {},
   "source": [
    "***\n",
    "# Classificazione delle recensioni\n",
    "Si vuole cercare di capire, partendo dal testo della recensione, se questa sarà sufficiente (con voto $\\ge$ 6) o meno. \n",
    "\n",
    "Dato che le recensioni sono molto numerose, per ridurre i tempi di esecuzione del notebook, altrimenti troppo lunghi, si è scelto di utilizzare unicamente 50'000 recensioni nella fase di addestramento dei modelli.\n",
    "\n",
    "Certamente, sfruttando l'intero dataset si potrebbero ottenere precisioni maggiori al prezzo di aumentare notevolmente i tempi di esecuzione (prove sull'intero dataset hanno richiesto quasi un'ora per eseguire la tokenizzazione e stemming di tutti i commenti). Vista la grande disponibilità di dati si è scelto inoltre di mantenere un test set di dimensione elevata per cercare di mantenere piccolo l'intervallo di confidenza."
   ]
  },
  {
   "cell_type": "code",
   "execution_count": 29,
   "metadata": {},
   "outputs": [],
   "source": [
    "# Split into train and validation set\n",
    "X_train, X_val, y_train, y_val = train_test_split(reviews_cleaned[\"comment\"], \n",
    "                                                  reviews_cleaned[\"rating\"], \n",
    "                                                  train_size=50_000,\n",
    "                                                  test_size=100_000, \n",
    "                                                  random_state=11)\n",
    "# Give a label to each rating\n",
    "y_train = y_train.apply(lambda x: \"bad\" if x < 6 else \"good\")\n",
    "y_val = y_val.apply(lambda x: \"bad\" if x < 6 else \"good\")"
   ]
  },
  {
   "cell_type": "markdown",
   "metadata": {},
   "source": [
    "Si può osservare come la distribuzione fra classi sia sbilanciata a favore di quelle positive:"
   ]
  },
  {
   "cell_type": "code",
   "execution_count": 30,
   "metadata": {},
   "outputs": [
    {
     "name": "stdout",
     "output_type": "stream",
     "text": [
      "good    0.77958\n",
      "bad     0.22042\n",
      "Name: rating, dtype: float64\n"
     ]
    },
    {
     "data": {
      "image/png": "[encoded data removed]",
      "text/plain": [
       "<Figure size 432x288 with 1 Axes>"
      ]
     },
     "metadata": {},
     "output_type": "display_data"
    }
   ],
   "source": [
    "print(y_train.value_counts(normalize=True))\n",
    "y_train.value_counts(normalize=True).plot.pie(autopct=\"%1.1f%%\");"
   ]
  },
  {
   "cell_type": "markdown",
   "metadata": {},
   "source": [
    "## 1. Valutazione dei modelli\n",
    "Per valutare i vari modelli viene realizzata una funzione che restituisce un dizionario contenente:\n",
    "   - `score`: score del modello (percentuale di istanze classificate correttamente)\n",
    "   - `score_min`: l'estremo inferiore dell'intervallo di confidenza per lo score \n",
    "   - `score_max`: l'estremo superiore dell'intervallo di confidenza per lo score\n",
    "   - `f1`: f1-score del modello (media degli f1-score per entrambe le classi)\n",
    "   - `f1_min`: l'estremo inferiore dell'intervallo di confidenza per l' f1-score\n",
    "   - `f1_max`: l'estremo superiore dell'intervallo di confidenza per l' f1-score\n",
    "   \n",
    "Gli intervalli di confidenza vengono calcolati con confidenza al 95%. \n",
    "I modelli sono confrontati fra loro sempre allo stesso livello di confidenza con la funzione `diff_interval` che calcola un'intervallo; se in questo è presente lo 0 allora la differenza fra i modelli non sarà significativa."
   ]
  },
  {
   "cell_type": "code",
   "execution_count": 31,
   "metadata": {},
   "outputs": [],
   "source": [
    "def conf_interval(a, N, Z=1.96):\n",
    "    c = (2 * N * a + Z**2) / (2 * (N + Z**2))\n",
    "    d = Z * np.sqrt(Z**2 + 4*N*a - 4*N*a**2) / (2 * (N + Z**2))\n",
    "    return c - d, c + d\n",
    "\n",
    "def model_metrics(y_pred, y_val, Z=1.96, verbose=True):\n",
    "    \"\"\"Return a Python dict containing informations about the model used to obtain y_pred.\n",
    "    \n",
    "       Parameters:\n",
    "         - y_pred: the predicted labels\n",
    "         - y_val: the actual labels\n",
    "         - Z: the Z-value corresponding to the confidence level, default is 1.96\n",
    "              meaning a confidence level of 95%\n",
    "         - verbose: if True prints the data in the dict\n",
    "     \n",
    "       Returns:\n",
    "         A python dict containing the score, f1-score and corresponding confidence\n",
    "         intervals for each metric.\"\"\"\n",
    "    score = f1_score(y_val, y_pred, average=\"micro\")\n",
    "    f1 = f1_score(y_val, y_pred, average=\"macro\")\n",
    "    score_min, score_max = conf_interval(score, len(y_val), Z)\n",
    "    f1_min, f1_max = conf_interval(f1, len(y_val), Z)\n",
    "    \n",
    "    if verbose:\n",
    "        print(\"Model metrics:\")\n",
    "        print(f\"  - Score:\\t{score:.3f} ∈ [{score_min:.3f}, {score_max:.3f}]\")\n",
    "        print(f\"  - f1 score:\\t{f1:.3f} ∈ [{f1_min:.3f}, {f1_max:.3f}]\")\n",
    "        \n",
    "    return {\n",
    "        \"score\": score,\n",
    "        \"score_min\": score_min,\n",
    "        \"score_max\": score_max,\n",
    "        \"f1\": f1,\n",
    "        \"f1_min\": f1_min,\n",
    "        \"f1_max\": f1_max\n",
    "    }\n",
    "\n",
    "def plot_confusion_matrix(y_pred, y_val, classes):\n",
    "    cm = confusion_matrix(y_val, y_pred, normalize=\"true\")\n",
    "    sns.heatmap(cm, square=True, annot=True, cmap=\"coolwarm\", \n",
    "                xticklabels=classes, yticklabels=classes)\n",
    "    plt.xlabel(\"Predicted\");\n",
    "    plt.ylabel(\"Actual\");\n",
    "\n",
    "\n",
    "def compare_models(model_metrics_1, model_metrics_2, len_1, len_2, Z=1.96):\n",
    "    \"\"\"Compare the metrics computed for each model with the given confidence Z.\n",
    "       \n",
    "       Parameters:\n",
    "         - model_metrics_1: the metrics dict of the first model\n",
    "         - model_metrics_2: the metrics dict of the second model\n",
    "         - len_1: the length of the validation set used to compute the metrics\n",
    "                  for the first model\n",
    "         - len_2: the length of the validation set used to compute the metrics\n",
    "                  for the second model\n",
    "         - Z: the Z-value corresponding to the confidence level, default is 1.96\n",
    "              meaning a confidence level of 95%\"\"\"\n",
    "    for metric in [\"score\", \"f1\"]:\n",
    "        min_range, max_range = diff_interval(model_metrics_1[metric], \n",
    "                                             model_metrics_2[metric], \n",
    "                                             len_1, len_2, Z)\n",
    "        relevance = (\"non \" if 0 > min_range and 0 < max_range else \"\") + \"relevant\"\n",
    "        print(f\"{metric}:\\t [{min_range:.3f}, {max_range:.3f}] -> {relevance}\")\n",
    "    \n",
    "def diff_interval(a1, a2, N1, N2, Z=1.96):\n",
    "    d = abs(a1 - a2)\n",
    "    sd = np.sqrt(a1 * (1-a1) / N1 + a2 * (1-a2) / N2)\n",
    "    return d - Z * sd, d + Z * sd\n",
    "\n",
    "def grid_search_and_eval(model, grid, scoring=\"f1_macro\"):\n",
    "    \"\"\"Performs grid search and model evaluation returning the grid search object\n",
    "       and a Python dict with the computed metrics.\n",
    "       \n",
    "       Params:\n",
    "         - model: the model to perform grid search on\n",
    "         - grid: the grid search parameters\n",
    "         - scoring: the scoring method to use when performing grid search\n",
    "        \n",
    "       Returns:\n",
    "         The fitted grid search object and a dict obtained from the function\n",
    "         'model_metrics'.\"\"\"\n",
    "    gs = GridSearchCV(model, grid, cv=3, scoring=scoring, n_jobs=-1)\n",
    "    gs.fit(X_train, y_train);\n",
    "    \n",
    "    preds = gs.predict(X_val)\n",
    "    best_estimator_metrics = model_metrics(preds, y_val)\n",
    "    plot_confusion_matrix(preds, y_val, gs.classes_)\n",
    "\n",
    "    return gs, best_estimator_metrics"
   ]
  },
  {
   "cell_type": "markdown",
   "metadata": {},
   "source": [
    "## 2. Classificazione\n",
    "Viene innanzitutto realizzato un metodo di regressione logistica. Viene fatta una ricerca degli iperparametri per capire quale sia il miglior grado e tipo di regolarizzazione e se modificare il peso delle classi possa portare a dei miglioramenti."
   ]
  },
  {
   "cell_type": "code",
   "execution_count": 32,
   "metadata": {},
   "outputs": [
    {
     "name": "stdout",
     "output_type": "stream",
     "text": [
      "Model metrics:\n",
      "  - Score:\t0.814 ∈ [0.812, 0.816]\n",
      "  - f1 score:\t0.650 ∈ [0.647, 0.653]\n"
     ]
    },
    {
     "data": {
      "image/png": "[encoded data removed]",
      "text/plain": [
       "<Figure size 432x288 with 2 Axes>"
      ]
     },
     "metadata": {},
     "output_type": "display_data"
    }
   ],
   "source": [
    "model = Pipeline([\n",
    "    (\"vectorizer\", TfidfVectorizer(stop_words=stopwords_mono)),\n",
    "    (\"classifier\", LogisticRegression(random_state=11, solver=\"saga\"))\n",
    "])\n",
    "grid = [{\n",
    "    \"vectorizer__min_df\": [50, 100],\n",
    "    \"classifier__penalty\": [\"l1\", \"l2\"],\n",
    "    \"classifier__C\": [0.01, 0.1, 1],\n",
    "    \"classifier__class_weight\": [{\"bad\": 3, \"good\":1}, None]\n",
    "}]\n",
    "logreg_score, logreg_score_metrics = grid_search_and_eval(model, grid, \"accuracy\")"
   ]
  },
  {
   "cell_type": "code",
   "execution_count": 33,
   "metadata": {},
   "outputs": [
    {
     "data": {
      "text/plain": [
       "{'classifier__C': 1,\n",
       " 'classifier__class_weight': None,\n",
       " 'classifier__penalty': 'l2',\n",
       " 'vectorizer__min_df': 50}"
      ]
     },
     "execution_count": 33,
     "metadata": {},
     "output_type": "execute_result"
    }
   ],
   "source": [
    "logreg_score.best_params_"
   ]
  },
  {
   "cell_type": "markdown",
   "metadata": {},
   "source": [
    "Nonostante il modello abbia un buono score, questo non è indicativo della sua effettiva bontà in quanto il 70% delle recensioni negative viene classificato in maniera errata. Si preferisce dunque favorire l'ottimizzazione dell'`f1-score` che forzerà il modello a migliorare la classificazione delle recensioni negative.\n",
    "\n",
    "L'idea alla base di questa scelta è che, ai fini di eventuali indagini, è più importante riuscire a identificare correttamente recensioni negative dalle quali ottenere informazioni utili ad apprendere aspetti da migliorare nel proprio prodotto o in prodotti futuri (e.g. una meccanica di gioco che non è stata apprezzata, la componentistica inadeguata,...)."
   ]
  },
  {
   "cell_type": "markdown",
   "metadata": {},
   "source": [
    "### 2.1. Con regressione logistica e monogram\n",
    "Un secondo modello viene quindi addestrato utilizzando solo i monogram e minimizzando l'`f1-score`."
   ]
  },
  {
   "cell_type": "code",
   "execution_count": 34,
   "metadata": {
    "scrolled": false
   },
   "outputs": [
    {
     "name": "stdout",
     "output_type": "stream",
     "text": [
      "Model metrics:\n",
      "  - Score:\t0.765 ∈ [0.763, 0.768]\n",
      "  - f1 score:\t0.692 ∈ [0.689, 0.694]\n"
     ]
    },
    {
     "data": {
      "image/png": "[encoded data removed]",
      "text/plain": [
       "<Figure size 432x288 with 2 Axes>"
      ]
     },
     "metadata": {},
     "output_type": "display_data"
    }
   ],
   "source": [
    "model = Pipeline([\n",
    "    (\"vectorizer\", TfidfVectorizer(stop_words=stopwords_mono)),\n",
    "    (\"classifier\", LogisticRegression(random_state=11, solver=\"saga\"))\n",
    "])\n",
    "grid = [{\n",
    "    \"vectorizer__min_df\": [50, 100],\n",
    "    \"classifier__penalty\": [\"l1\", \"l2\"],\n",
    "    \"classifier__C\": [0.01, 0.1, 1],\n",
    "    \"classifier__class_weight\": [{\"bad\": 3, \"good\":1}, None]\n",
    "}]\n",
    "regr_model_mono, regr_model_mono_metrics = grid_search_and_eval(model, grid)"
   ]
  },
  {
   "cell_type": "markdown",
   "metadata": {},
   "source": [
    "Effettuando un confronto fra i due modelli si può notare come le differenze siano entrambe statisticamente significative. Quindi, come ci si sarebbe potuto attendere, il modello che ottimizza l'`f1-score` si comporta effettivamente meglio nella classificazione delle recensioni negative a discapito dello score generale. Dato che in questo caso si dà maggior importanza alla capacità di classificare correttamente **tutti** i tipi di recensione, si predilige il secondo modello."
   ]
  },
  {
   "cell_type": "code",
   "execution_count": 35,
   "metadata": {},
   "outputs": [
    {
     "data": {
      "text/plain": [
       "{'classifier__C': 0.1,\n",
       " 'classifier__class_weight': {'bad': 3, 'good': 1},\n",
       " 'classifier__penalty': 'l2',\n",
       " 'vectorizer__min_df': 50}"
      ]
     },
     "execution_count": 35,
     "metadata": {},
     "output_type": "execute_result"
    }
   ],
   "source": [
    "regr_model_mono.best_params_"
   ]
  },
  {
   "cell_type": "code",
   "execution_count": 36,
   "metadata": {},
   "outputs": [
    {
     "name": "stdout",
     "output_type": "stream",
     "text": [
      "score:\t [0.044, 0.054] -> relevant\n",
      "f1:\t [0.036, 0.047] -> relevant\n"
     ]
    }
   ],
   "source": [
    "compare_models(logreg_score_metrics, regr_model_mono_metrics, len(y_train), len(y_train))"
   ]
  },
  {
   "cell_type": "markdown",
   "metadata": {},
   "source": [
    "### 2.2. Con regressione logistica e bigram\n",
    "Viene addestrato un ulteriore modello utilizzando i bigram per verificare che la loro adozione comporti degli effettivi miglioramenti:"
   ]
  },
  {
   "cell_type": "code",
   "execution_count": 37,
   "metadata": {},
   "outputs": [
    {
     "name": "stdout",
     "output_type": "stream",
     "text": [
      "Model metrics:\n",
      "  - Score:\t0.773 ∈ [0.770, 0.775]\n",
      "  - f1 score:\t0.698 ∈ [0.695, 0.701]\n"
     ]
    },
    {
     "data": {
      "image/png": "[encoded data removed]",
      "text/plain": [
       "<Figure size 432x288 with 2 Axes>"
      ]
     },
     "metadata": {},
     "output_type": "display_data"
    }
   ],
   "source": [
    "model = Pipeline([\n",
    "    (\"vect\", TfidfVectorizer(stop_words=stopwords_bi, ngram_range=(1,2))),\n",
    "    (\"regr\", LogisticRegression(random_state=11, solver=\"saga\"))\n",
    "])\n",
    "grid = [{\n",
    "    \"vect__min_df\": [50, 100],\n",
    "    \"regr__penalty\": [\"l1\", \"l2\"],\n",
    "    \"regr__C\": [0.01, 0.1, 1],\n",
    "    \"regr__class_weight\": [{\"bad\": 3, \"good\":1}, None]\n",
    "}]\n",
    "regr_model_bi, regr_model_bi_metrics = grid_search_and_eval(model, grid)"
   ]
  },
  {
   "cell_type": "code",
   "execution_count": 38,
   "metadata": {},
   "outputs": [
    {
     "data": {
      "text/plain": [
       "{'regr__C': 0.1,\n",
       " 'regr__class_weight': {'bad': 3, 'good': 1},\n",
       " 'regr__penalty': 'l2',\n",
       " 'vect__min_df': 50}"
      ]
     },
     "execution_count": 38,
     "metadata": {},
     "output_type": "execute_result"
    }
   ],
   "source": [
    "regr_model_bi.best_params_"
   ]
  },
  {
   "cell_type": "markdown",
   "metadata": {},
   "source": [
    "Il modello che fa uso dei bigram sembra essere migliore rispetto al primo, con una leggera crescita di entrambe le metriche. Per stabilire se questa differenza è statisticamente significativa viene calcolato l'intervallo di differenza fra i due modelli:"
   ]
  },
  {
   "cell_type": "code",
   "execution_count": 39,
   "metadata": {
    "scrolled": false
   },
   "outputs": [
    {
     "name": "stdout",
     "output_type": "stream",
     "text": [
      "score:\t [0.002, 0.012] -> relevant\n",
      "f1:\t [0.001, 0.012] -> relevant\n"
     ]
    }
   ],
   "source": [
    "compare_models(regr_model_mono_metrics, regr_model_bi_metrics, len(y_train), len(y_train))"
   ]
  },
  {
   "cell_type": "markdown",
   "metadata": {},
   "source": [
    "Poichè l'intervallo non contiene lo 0 la differenza è statisticamente significativa e si può considerare il modello che fa uso dei bigram migliore rispetto a quello che usa unicamente le singole parole."
   ]
  },
  {
   "cell_type": "markdown",
   "metadata": {},
   "source": [
    "### 2.3. Con regressione logistica e stemming\n",
    "Per le osservazioni fatte [precedentemente](#1.-Parole-più-ricorrenti) si vuole scoprire se, tramite l'applicazione dello stemming, si possono ottenere risultati migliori. Il tokenizer utilizzato è quello fornito da `nltk`. Dato che l'operazione di stemming e tokenizzazione richiede più tempo si riducono le possibili alternative per la grid search limitando la scelta fra i pesi da dare alle diverse classi."
   ]
  },
  {
   "cell_type": "code",
   "execution_count": 40,
   "metadata": {},
   "outputs": [],
   "source": [
    "ps = PorterStemmer()\n",
    "def tokenize_stem(text):\n",
    "    return [ps.stem(word) for word in word_tokenize(text)]"
   ]
  },
  {
   "cell_type": "code",
   "execution_count": 41,
   "metadata": {},
   "outputs": [
    {
     "name": "stdout",
     "output_type": "stream",
     "text": [
      "Model metrics:\n",
      "  - Score:\t0.773 ∈ [0.770, 0.775]\n",
      "  - f1 score:\t0.699 ∈ [0.696, 0.702]\n"
     ]
    },
    {
     "data": {
      "image/png": "[encoded data removed]",
      "text/plain": [
       "<Figure size 432x288 with 2 Axes>"
      ]
     },
     "metadata": {},
     "output_type": "display_data"
    }
   ],
   "source": [
    "model = Pipeline([\n",
    "    (\"vect\", TfidfVectorizer(stop_words=stopwords_bi, ngram_range=(1,2), min_df=50, tokenizer=tokenize_stem)),\n",
    "    (\"regr\", LogisticRegression(random_state=11, solver=\"saga\", penalty=\"l2\", C=0.1))\n",
    "])\n",
    "grid = [{\n",
    "    \"regr__class_weight\": [{\"bad\": 3, \"good\":1}, None]\n",
    "}]\n",
    "regr_model_stem, regr_model_stem_metrics = grid_search_and_eval(model, grid)"
   ]
  },
  {
   "cell_type": "code",
   "execution_count": 42,
   "metadata": {},
   "outputs": [
    {
     "data": {
      "text/plain": [
       "{'regr__class_weight': {'bad': 3, 'good': 1}}"
      ]
     },
     "execution_count": 42,
     "metadata": {},
     "output_type": "execute_result"
    }
   ],
   "source": [
    "regr_model_stem.best_params_"
   ]
  },
  {
   "cell_type": "markdown",
   "metadata": {},
   "source": [
    "Il modello presenta un piccolissimo miglioramento che tuttavia non risulta essere statisticamente significativo:"
   ]
  },
  {
   "cell_type": "code",
   "execution_count": 43,
   "metadata": {},
   "outputs": [
    {
     "name": "stdout",
     "output_type": "stream",
     "text": [
      "score:\t [-0.005, 0.005] -> non relevant\n",
      "f1:\t [-0.005, 0.007] -> non relevant\n"
     ]
    }
   ],
   "source": [
    "compare_models(regr_model_bi_metrics, regr_model_stem_metrics, len(y_train), len(y_train))"
   ]
  },
  {
   "cell_type": "markdown",
   "metadata": {},
   "source": [
    "Si può quindi concludere che, operando a regime con un livello di confidenza del 95%, l'uso di stemming non comporta miglioramenti nella classificazione. Quindi, i modelli `regr_model_bi_stem` e `regr_model_bi` risultano essere equivalenti."
   ]
  },
  {
   "cell_type": "markdown",
   "metadata": {},
   "source": [
    "### 2.4. Con decision tree\n",
    "Ho ritenuto potesse essere interessante realizzare un'ulteriore modello utilizzando un decision tree dato che questo argomento è stato solo accennato durante le lezioni. Alcuni riferimenti utili consultati sono stati <a href=\"https://medium.com/@mohtedibf/indepth-parameter-tuning-for-decision-tree-6753118a03c3\">il seguente articolo</a> e la dettagliata <a href=\"https://scikit-learn.org/stable/modules/generated/sklearn.tree.DecisionTreeClassifier.html\">documentazione di sklearn</a>.\n",
    "\n",
    "La profondità massima dell'albero viene limitata a 100 per evitare che il processo di addestramento richieda troppo tempo; aumentando tale valore è possibile che i risultati ottenuti possano migliorare leggermente."
   ]
  },
  {
   "cell_type": "code",
   "execution_count": 44,
   "metadata": {},
   "outputs": [
    {
     "name": "stdout",
     "output_type": "stream",
     "text": [
      "Model metrics:\n",
      "  - Score:\t0.732 ∈ [0.730, 0.735]\n",
      "  - f1 score:\t0.620 ∈ [0.617, 0.623]\n"
     ]
    },
    {
     "data": {
      "image/png": "[encoded data removed]",
      "text/plain": [
       "<Figure size 432x288 with 2 Axes>"
      ]
     },
     "metadata": {},
     "output_type": "display_data"
    }
   ],
   "source": [
    "model = Pipeline([\n",
    "    (\"vect\", TfidfVectorizer(stop_words=stopwords_bi, ngram_range=(1,2))),\n",
    "    (\"regr\", DecisionTreeClassifier(random_state=11, \n",
    "                                    max_depth=100,\n",
    "                                    class_weight={\"bad\": 3, \"good\":1}))\n",
    "])\n",
    "grid = [{\n",
    "    \"regr__max_features\": [\"sqrt\", None],\n",
    "    \"regr__min_samples_split\": [0.1,0.5,1.0],\n",
    "}]\n",
    "tree_model, tree_model_metrics = grid_search_and_eval(model, grid)"
   ]
  },
  {
   "cell_type": "code",
   "execution_count": 45,
   "metadata": {},
   "outputs": [
    {
     "data": {
      "text/plain": [
       "{'regr__max_features': None, 'regr__min_samples_split': 0.1}"
      ]
     },
     "execution_count": 45,
     "metadata": {},
     "output_type": "execute_result"
    }
   ],
   "source": [
    "tree_model.best_params_"
   ]
  },
  {
   "cell_type": "markdown",
   "metadata": {},
   "source": [
    "Il modello allenato presenta uno score e un f1-score inferiori rispetto a quelli del modello già ottenuto tramite regressione logistica. Dato che queste differenze risultano essere statisticamente significative i modelli migliori che verranno considerati in seguito sono `regr_model_bi` e `regr_model_stem`."
   ]
  },
  {
   "cell_type": "code",
   "execution_count": 46,
   "metadata": {},
   "outputs": [
    {
     "name": "stdout",
     "output_type": "stream",
     "text": [
      "score:\t [0.035, 0.046] -> relevant\n",
      "f1:\t [0.072, 0.083] -> relevant\n"
     ]
    }
   ],
   "source": [
    "compare_models(regr_model_bi_metrics, tree_model_metrics, len(y_train), len(y_train))"
   ]
  },
  {
   "cell_type": "markdown",
   "metadata": {},
   "source": [
    "## 3. Confronto con modelli di controllo\n",
    "Per verificare che i migliori modelli emersi dalla fase precedente (`regr_model_bi`, `regr_model_stem`) si comportino in maniera soddisfacente, vengono confrontati con due modelli di controllo con confidenza al 99%."
   ]
  },
  {
   "cell_type": "markdown",
   "metadata": {},
   "source": [
    "### 3.1. Classificatore \"stratified\"\n",
    "Il primo classificatore considerato adotta come strategia quella di predirre le etichette in base alla distribuzione del training set. Come vettorizzatore viene considerato lo stesso utilizzato dal modello migliore individuato dalla grid search, ovvero con `min_df=50` e con uso dei bigram."
   ]
  },
  {
   "cell_type": "code",
   "execution_count": 47,
   "metadata": {},
   "outputs": [
    {
     "name": "stdout",
     "output_type": "stream",
     "text": [
      "Model metrics:\n",
      "  - Score:\t0.656 ∈ [0.654, 0.659]\n",
      "  - f1 score:\t0.498 ∈ [0.495, 0.501]\n"
     ]
    },
    {
     "data": {
      "image/png": "[encoded data removed]",
      "text/plain": [
       "<Figure size 432x288 with 2 Axes>"
      ]
     },
     "metadata": {},
     "output_type": "display_data"
    }
   ],
   "source": [
    "dummy_stratified = Pipeline([\n",
    "    (\"vectorizer\", TfidfVectorizer(stop_words=stopwords_bi, ngram_range=(1,2), min_df=50)),\n",
    "    (\"classifier\", DummyClassifier(strategy=\"stratified\", random_state=11))\n",
    "])\n",
    "dummy_stratified.fit(X_train, y_train);\n",
    "\n",
    "preds = dummy_stratified.predict(X_val)\n",
    "dummy_stratified_metrics = model_metrics(preds, y_val)\n",
    "plot_confusion_matrix(preds, y_val, dummy_stratified.classes_)"
   ]
  },
  {
   "cell_type": "markdown",
   "metadata": {},
   "source": [
    "Si può osservare come sia lo score che l'f1 score siano minori rispetto a quelli dei modelli migliori. Confrontando le differenze con confidenza al 99% (`Z=2.58`) si può vedere come, a regime, i modelli in considerazione risultino essere sempre migliori:"
   ]
  },
  {
   "cell_type": "code",
   "execution_count": 48,
   "metadata": {},
   "outputs": [
    {
     "name": "stdout",
     "output_type": "stream",
     "text": [
      "Confronto con modello che fa uso dei bigram:\n",
      "score:\t [0.109, 0.123] -> relevant\n",
      "f1:\t [0.192, 0.208] -> relevant\n"
     ]
    }
   ],
   "source": [
    "print(\"Confronto con modello che fa uso dei bigram:\")\n",
    "compare_models(regr_model_bi_metrics, dummy_stratified_metrics, len(y_train), len(y_train), Z=2.58)"
   ]
  },
  {
   "cell_type": "code",
   "execution_count": 49,
   "metadata": {},
   "outputs": [
    {
     "name": "stdout",
     "output_type": "stream",
     "text": [
      "Confronto con modello che fa uso dei bigram e di stemming:\n",
      "score:\t [0.109, 0.124] -> relevant\n",
      "f1:\t [0.193, 0.209] -> relevant\n"
     ]
    }
   ],
   "source": [
    "print(\"Confronto con modello che fa uso dei bigram e di stemming:\")\n",
    "compare_models(regr_model_stem_metrics, dummy_stratified_metrics, len(y_train), len(y_train), Z=2.58)"
   ]
  },
  {
   "cell_type": "markdown",
   "metadata": {},
   "source": [
    "### 3.2. Classificatore costante\n",
    "Il secondo classificatore utilizzato come confronto è quello che predice sempre la classe che compare con maggior frequenza nei dati di addestramento. "
   ]
  },
  {
   "cell_type": "code",
   "execution_count": 50,
   "metadata": {},
   "outputs": [
    {
     "name": "stdout",
     "output_type": "stream",
     "text": [
      "Model metrics:\n",
      "  - Score:\t0.782 ∈ [0.780, 0.785]\n",
      "  - f1 score:\t0.439 ∈ [0.436, 0.442]\n"
     ]
    },
    {
     "data": {
      "image/png": "[encoded data removed]",
      "text/plain": [
       "<Figure size 432x288 with 2 Axes>"
      ]
     },
     "metadata": {},
     "output_type": "display_data"
    }
   ],
   "source": [
    "dummy_frequent = Pipeline([\n",
    "    (\"vectorizer\", TfidfVectorizer(stop_words=stopwords_bi, ngram_range=(1,2), min_df=50)),\n",
    "    (\"classifier\", DummyClassifier(strategy=\"most_frequent\", random_state=11))\n",
    "])\n",
    "dummy_frequent.fit(X_train, y_train);\n",
    "\n",
    "preds = dummy_frequent.predict(X_val)\n",
    "dummy_frequent_metrics = model_metrics(preds, y_val)\n",
    "plot_confusion_matrix(preds, y_val, dummy_frequent.classes_)"
   ]
  },
  {
   "cell_type": "markdown",
   "metadata": {},
   "source": [
    "Si può notare come lo score generico superi leggermente quello del modello trovato (del resto, predicendo sempre la classe `\"good\"` si otterrà sempre il 78% essendo questa preponderante; d'altro canto, risulta evidente come un tale predittore non possa avere alcuna utilità per applicazioni reali). Tuttavia i modelli trovati, a regime e con confidenza 99%, risultano essere nettamente migliori per quanto riguarda l'f1-score."
   ]
  },
  {
   "cell_type": "code",
   "execution_count": 51,
   "metadata": {
    "scrolled": true
   },
   "outputs": [
    {
     "name": "stdout",
     "output_type": "stream",
     "text": [
      "Confronto con modello che fa uso dei bigram:\n",
      "score:\t [0.003, 0.016] -> relevant\n",
      "f1:\t [0.251, 0.267] -> relevant\n"
     ]
    }
   ],
   "source": [
    "print(\"Confronto con modello che fa uso dei bigram:\")\n",
    "compare_models(regr_model_bi_metrics, dummy_frequent_metrics, len(y_train), len(y_train), Z=2.58)"
   ]
  },
  {
   "cell_type": "code",
   "execution_count": 52,
   "metadata": {},
   "outputs": [
    {
     "name": "stdout",
     "output_type": "stream",
     "text": [
      "Confronto con modello che fa uso dei bigram e stemming:\n",
      "score:\t [0.003, 0.016] -> relevant\n",
      "f1:\t [0.252, 0.268] -> relevant\n"
     ]
    }
   ],
   "source": [
    "print(\"Confronto con modello che fa uso dei bigram e stemming:\")\n",
    "compare_models(regr_model_stem_metrics, dummy_frequent_metrics, len(y_train), len(y_train), Z=2.58)"
   ]
  },
  {
   "cell_type": "markdown",
   "metadata": {},
   "source": [
    "***\n",
    "# Prestazioni sul test set\n",
    "Stabilito che il modello migliore è `regr_model_bi` (e che `regr_model_stem` è equivalente) viene fatto un test finale su un set di 200'000 commenti che non appartengono nè al training nè al validation set."
   ]
  },
  {
   "cell_type": "code",
   "execution_count": 53,
   "metadata": {},
   "outputs": [],
   "source": [
    "# Take a sample of 200'000 comments from those whose index is neither in train nor validation set\n",
    "comments_test = reviews_cleaned[~reviews_cleaned.index.isin(X_train.index) &\n",
    "                                ~reviews_cleaned.index.isin(X_val.index)].sample(200_000, random_state=11)\n",
    "X_test = comments_test[\"comment\"]\n",
    "# Apply a label to each rating in the test set\n",
    "y_test = comments_test[\"rating\"].apply(lambda x: \"bad\" if x < 6 else \"good\")"
   ]
  },
  {
   "cell_type": "code",
   "execution_count": 54,
   "metadata": {},
   "outputs": [
    {
     "name": "stdout",
     "output_type": "stream",
     "text": [
      "score sul test set:\t0.774, intervallo atteso: [0.770, 0.775]\n",
      "f1-score sul test set:\t0.701, intervallo atteso: [0.695, 0.701]\n"
     ]
    }
   ],
   "source": [
    "preds = regr_model_bi.predict(X_test)\n",
    "test_scores = model_metrics(preds, y_test, verbose=False)\n",
    "print(f\"score sul test set:\\t{test_scores['score']:.3f}, intervallo atteso: [{regr_model_bi_metrics['score_min']:.3f}, {regr_model_bi_metrics['score_max']:.3f}]\")\n",
    "print(f\"f1-score sul test set:\\t{test_scores['f1']:.3f}, intervallo atteso: [{regr_model_bi_metrics['f1_min']:.3f}, {regr_model_bi_metrics['f1_max']:.3f}]\")"
   ]
  },
  {
   "cell_type": "markdown",
   "metadata": {},
   "source": [
    "L'accuratezza mostrata su dati mai visti in fase di train e validation rimane ampiamente nell'intervallo di confidenza calcolato."
   ]
  },
  {
   "cell_type": "markdown",
   "metadata": {},
   "source": [
    "***\n",
    "\n",
    "# Analisi della conoscenza appresa\n",
    "Una volta identificati i due modelli migliori è interessante analizzare quanto è stato appreso, ovvero i pesi assegnati a ciascuna parola del dizionario ottenuto dai dati di training. Sono definite due funzioni utili per evitare di ripetere codice nell'analisi dei modelli:"
   ]
  },
  {
   "cell_type": "code",
   "execution_count": 55,
   "metadata": {},
   "outputs": [],
   "source": [
    "def get_k_words(model, vectorizer, best=True, k=15):\n",
    "    \"\"\"Get the k best or worst words based on the weight assigned by a model.\n",
    "    \n",
    "       Parameters:\n",
    "         - model: the model whose coefficients have to be used\n",
    "         - vectorizer: the vectorizer used by the model whose bag of words has to be evaluated\n",
    "         - best: if True gets the k best words, otherwise the k worst\n",
    "         - k: the number of words to be returned\n",
    "         \n",
    "       Returns:\n",
    "         A pandas dataframe containing the words and their corresponding weight.\"\"\"\n",
    "    return pd.DataFrame(model.coef_, \n",
    "                        columns=vectorizer.get_feature_names()).T.sort_values(by=0, ascending=not best).head(k)\n",
    "    \n",
    "def get_reviews_and_game(comment_filter, max_len, min_rating=0, max_rating=10):\n",
    "    \"\"\"Returns a dataframe containing filtered comments, the rating and the game the comment\n",
    "       is about.\n",
    "       \n",
    "       Parameters:\n",
    "         - comment_filter: a function String->Bool that is used to filter the comments\n",
    "         - max_len: the maximum lenght of the comments\n",
    "         - min_rating: the minumum rating of the comments\n",
    "         - max_rating: the maximum rating of the comments\n",
    "         \n",
    "       Returns:\n",
    "         A dataframe containing all the comments shorter than max_len, with a rating \n",
    "         between min_rating and max_rating (both are included) and that pass the filtering\n",
    "         function comment_filter.\"\"\"\n",
    "    # Join with games (its index is set to ID in order to perform the join on this value)\n",
    "    return reviews_cleaned[reviews_cleaned[\"comment\"].apply(comment_filter) &\n",
    "                (reviews_cleaned[\"rating\"] <= max_rating) & (reviews_cleaned[\"rating\"] >= min_rating) &\n",
    "                (lengths_cleaned < max_len)].join(games.set_index(\"ID\"), on=\"ID\")[[\"rating\", \"comment\", \"Name\"]]"
   ]
  },
  {
   "cell_type": "markdown",
   "metadata": {},
   "source": [
    "## 1. Modello di regressione con bigrams\n",
    "Si può osservare, dal modello `regr_model_bi` che le 15 parole migliori sono:"
   ]
  },
  {
   "cell_type": "code",
   "execution_count": 56,
   "metadata": {
    "scrolled": false
   },
   "outputs": [
    {
     "data": {
      "text/html": [
       "<div>\n",
       "<style scoped>\n",
       "    .dataframe tbody tr th:only-of-type {\n",
       "        vertical-align: middle;\n",
       "    }\n",
       "\n",
       "    .dataframe tbody tr th {\n",
       "        vertical-align: top;\n",
       "    }\n",
       "\n",
       "    .dataframe thead th {\n",
       "        text-align: right;\n",
       "    }\n",
       "</style>\n",
       "<table border=\"1\" class=\"dataframe\">\n",
       "  <thead>\n",
       "    <tr style=\"text-align: right;\">\n",
       "      <th></th>\n",
       "      <th>0</th>\n",
       "    </tr>\n",
       "  </thead>\n",
       "  <tbody>\n",
       "    <tr>\n",
       "      <th>great</th>\n",
       "      <td>3.213837</td>\n",
       "    </tr>\n",
       "    <tr>\n",
       "      <th>excellent</th>\n",
       "      <td>3.067736</td>\n",
       "    </tr>\n",
       "    <tr>\n",
       "      <th>love</th>\n",
       "      <td>2.886262</td>\n",
       "    </tr>\n",
       "    <tr>\n",
       "      <th>solid</th>\n",
       "      <td>2.071743</td>\n",
       "    </tr>\n",
       "    <tr>\n",
       "      <th>enjoyed</th>\n",
       "      <td>2.010064</td>\n",
       "    </tr>\n",
       "    <tr>\n",
       "      <th>best</th>\n",
       "      <td>1.881886</td>\n",
       "    </tr>\n",
       "    <tr>\n",
       "      <th>enjoyable</th>\n",
       "      <td>1.803338</td>\n",
       "    </tr>\n",
       "    <tr>\n",
       "      <th>nice</th>\n",
       "      <td>1.793727</td>\n",
       "    </tr>\n",
       "    <tr>\n",
       "      <th>favorite</th>\n",
       "      <td>1.772352</td>\n",
       "    </tr>\n",
       "    <tr>\n",
       "      <th>well</th>\n",
       "      <td>1.753953</td>\n",
       "    </tr>\n",
       "    <tr>\n",
       "      <th>fantastic</th>\n",
       "      <td>1.680680</td>\n",
       "    </tr>\n",
       "    <tr>\n",
       "      <th>fun</th>\n",
       "      <td>1.645866</td>\n",
       "    </tr>\n",
       "    <tr>\n",
       "      <th>good</th>\n",
       "      <td>1.629352</td>\n",
       "    </tr>\n",
       "    <tr>\n",
       "      <th>different</th>\n",
       "      <td>1.588777</td>\n",
       "    </tr>\n",
       "    <tr>\n",
       "      <th>fun game</th>\n",
       "      <td>1.552901</td>\n",
       "    </tr>\n",
       "  </tbody>\n",
       "</table>\n",
       "</div>"
      ],
      "text/plain": [
       "                  0\n",
       "great      3.213837\n",
       "excellent  3.067736\n",
       "love       2.886262\n",
       "solid      2.071743\n",
       "enjoyed    2.010064\n",
       "best       1.881886\n",
       "enjoyable  1.803338\n",
       "nice       1.793727\n",
       "favorite   1.772352\n",
       "well       1.753953\n",
       "fantastic  1.680680\n",
       "fun        1.645866\n",
       "good       1.629352\n",
       "different  1.588777\n",
       "fun game   1.552901"
      ]
     },
     "execution_count": 56,
     "metadata": {},
     "output_type": "execute_result"
    }
   ],
   "source": [
    "get_k_words(regr_model_bi.best_estimator_.named_steps[\"regr\"],\n",
    "            regr_model_bi.best_estimator_.named_steps[\"vect\"])"
   ]
  },
  {
   "cell_type": "markdown",
   "metadata": {},
   "source": [
    "Con una ulteriore analisi si può vedere come siano generalmente apprezzati aspetti come la presenza di strategia e una buona tematizzazione del gioco:"
   ]
  },
  {
   "cell_type": "code",
   "execution_count": 57,
   "metadata": {},
   "outputs": [
    {
     "data": {
      "text/html": [
       "<div>\n",
       "<style scoped>\n",
       "    .dataframe tbody tr th:only-of-type {\n",
       "        vertical-align: middle;\n",
       "    }\n",
       "\n",
       "    .dataframe tbody tr th {\n",
       "        vertical-align: top;\n",
       "    }\n",
       "\n",
       "    .dataframe thead th {\n",
       "        text-align: right;\n",
       "    }\n",
       "</style>\n",
       "<table border=\"1\" class=\"dataframe\">\n",
       "  <thead>\n",
       "    <tr style=\"text-align: right;\">\n",
       "      <th></th>\n",
       "      <th>0</th>\n",
       "    </tr>\n",
       "  </thead>\n",
       "  <tbody>\n",
       "    <tr>\n",
       "      <th>strategic</th>\n",
       "      <td>1.152915</td>\n",
       "    </tr>\n",
       "    <tr>\n",
       "      <th>thematic</th>\n",
       "      <td>1.120018</td>\n",
       "    </tr>\n",
       "  </tbody>\n",
       "</table>\n",
       "</div>"
      ],
      "text/plain": [
       "                  0\n",
       "strategic  1.152915\n",
       "thematic   1.120018"
      ]
     },
     "execution_count": 57,
     "metadata": {},
     "output_type": "execute_result"
    }
   ],
   "source": [
    "get_k_words(regr_model_bi.best_estimator_.named_steps[\"regr\"],\n",
    "            regr_model_bi.best_estimator_.named_steps[\"vect\"],\n",
    "            best=True,\n",
    "            k=5000).loc[[\"strategic\", \"thematic\"]]"
   ]
  },
  {
   "cell_type": "markdown",
   "metadata": {},
   "source": [
    "Se si considerano le parole con peso negativo maggiore si possono incontrare, come ci si sarebbe potuto attendere, diversi aggettivi con accezione negativa:"
   ]
  },
  {
   "cell_type": "code",
   "execution_count": 58,
   "metadata": {},
   "outputs": [
    {
     "data": {
      "text/html": [
       "<div>\n",
       "<style scoped>\n",
       "    .dataframe tbody tr th:only-of-type {\n",
       "        vertical-align: middle;\n",
       "    }\n",
       "\n",
       "    .dataframe tbody tr th {\n",
       "        vertical-align: top;\n",
       "    }\n",
       "\n",
       "    .dataframe thead th {\n",
       "        text-align: right;\n",
       "    }\n",
       "</style>\n",
       "<table border=\"1\" class=\"dataframe\">\n",
       "  <thead>\n",
       "    <tr style=\"text-align: right;\">\n",
       "      <th></th>\n",
       "      <th>0</th>\n",
       "    </tr>\n",
       "  </thead>\n",
       "  <tbody>\n",
       "    <tr>\n",
       "      <th>boring</th>\n",
       "      <td>-4.160714</td>\n",
       "    </tr>\n",
       "    <tr>\n",
       "      <th>didnt</th>\n",
       "      <td>-2.305557</td>\n",
       "    </tr>\n",
       "    <tr>\n",
       "      <th>random</th>\n",
       "      <td>-2.225761</td>\n",
       "    </tr>\n",
       "    <tr>\n",
       "      <th>nothing</th>\n",
       "      <td>-2.130811</td>\n",
       "    </tr>\n",
       "    <tr>\n",
       "      <th>dull</th>\n",
       "      <td>-2.044688</td>\n",
       "    </tr>\n",
       "    <tr>\n",
       "      <th>kids</th>\n",
       "      <td>-1.969370</td>\n",
       "    </tr>\n",
       "    <tr>\n",
       "      <th>kid</th>\n",
       "      <td>-1.838980</td>\n",
       "    </tr>\n",
       "    <tr>\n",
       "      <th>isnt</th>\n",
       "      <td>-1.805996</td>\n",
       "    </tr>\n",
       "    <tr>\n",
       "      <th>much</th>\n",
       "      <td>-1.760794</td>\n",
       "    </tr>\n",
       "    <tr>\n",
       "      <th>bad</th>\n",
       "      <td>-1.731729</td>\n",
       "    </tr>\n",
       "    <tr>\n",
       "      <th>dont</th>\n",
       "      <td>-1.705617</td>\n",
       "    </tr>\n",
       "    <tr>\n",
       "      <th>terrible</th>\n",
       "      <td>-1.588580</td>\n",
       "    </tr>\n",
       "    <tr>\n",
       "      <th>worse</th>\n",
       "      <td>-1.504328</td>\n",
       "    </tr>\n",
       "    <tr>\n",
       "      <th>pointless</th>\n",
       "      <td>-1.491460</td>\n",
       "    </tr>\n",
       "    <tr>\n",
       "      <th>hate</th>\n",
       "      <td>-1.463777</td>\n",
       "    </tr>\n",
       "  </tbody>\n",
       "</table>\n",
       "</div>"
      ],
      "text/plain": [
       "                  0\n",
       "boring    -4.160714\n",
       "didnt     -2.305557\n",
       "random    -2.225761\n",
       "nothing   -2.130811\n",
       "dull      -2.044688\n",
       "kids      -1.969370\n",
       "kid       -1.838980\n",
       "isnt      -1.805996\n",
       "much      -1.760794\n",
       "bad       -1.731729\n",
       "dont      -1.705617\n",
       "terrible  -1.588580\n",
       "worse     -1.504328\n",
       "pointless -1.491460\n",
       "hate      -1.463777"
      ]
     },
     "execution_count": 58,
     "metadata": {},
     "output_type": "execute_result"
    }
   ],
   "source": [
    "get_k_words(regr_model_bi.best_estimator_.named_steps[\"regr\"],\n",
    "            regr_model_bi.best_estimator_.named_steps[\"vect\"],\n",
    "            best=False)"
   ]
  },
  {
   "cell_type": "markdown",
   "metadata": {},
   "source": [
    "Sono valutate in maniera molto negativa le parole \"kid\" e \"kids\", osservando le recensioni si può osservare come molti voti negativi siano stati assegnati infatti a giochi rituenuti per bambini."
   ]
  },
  {
   "cell_type": "code",
   "execution_count": 59,
   "metadata": {
    "scrolled": false
   },
   "outputs": [
    {
     "data": {
      "text/html": [
       "<div>\n",
       "<style scoped>\n",
       "    .dataframe tbody tr th:only-of-type {\n",
       "        vertical-align: middle;\n",
       "    }\n",
       "\n",
       "    .dataframe tbody tr th {\n",
       "        vertical-align: top;\n",
       "    }\n",
       "\n",
       "    .dataframe thead th {\n",
       "        text-align: right;\n",
       "    }\n",
       "</style>\n",
       "<table border=\"1\" class=\"dataframe\">\n",
       "  <thead>\n",
       "    <tr style=\"text-align: right;\">\n",
       "      <th></th>\n",
       "      <th>rating</th>\n",
       "      <th>comment</th>\n",
       "      <th>Name</th>\n",
       "    </tr>\n",
       "  </thead>\n",
       "  <tbody>\n",
       "    <tr>\n",
       "      <th>76614</th>\n",
       "      <td>5.0</td>\n",
       "      <td>Great intro to Eurogames but gets old fast The dice rolls can of course make or break you so I dont like the random factor much I kept it as a good intro game with newbies and for kids</td>\n",
       "      <td>Catan</td>\n",
       "    </tr>\n",
       "    <tr>\n",
       "      <th>76860</th>\n",
       "      <td>5.0</td>\n",
       "      <td>Also one of my gateway games But is on the memorial part of my gamecollection Now I just play it with the kids once in a while and thats it</td>\n",
       "      <td>Catan</td>\n",
       "    </tr>\n",
       "    <tr>\n",
       "      <th>79435</th>\n",
       "      <td>5.0</td>\n",
       "      <td>Just dont find it very interesting Trading with other players often unpleasant Too long for what it is In contrast I rather like Catan Junior with my kids</td>\n",
       "      <td>Catan</td>\n",
       "    </tr>\n",
       "    <tr>\n",
       "      <th>80065</th>\n",
       "      <td>5.0</td>\n",
       "      <td>If you dont have an opinion already of Catan you are on the wrong website  I will always grab this game if I am playing with somebody who doesnt play board games It is great for kids</td>\n",
       "      <td>Catan</td>\n",
       "    </tr>\n",
       "    <tr>\n",
       "      <th>82266</th>\n",
       "      <td>4.0</td>\n",
       "      <td>After finally playing this game Im somewhat amazed that the hobby turned into what it is today  Once the kids have burned through this its out</td>\n",
       "      <td>Catan</td>\n",
       "    </tr>\n",
       "    <tr>\n",
       "      <th>163902</th>\n",
       "      <td>5.0</td>\n",
       "      <td>I like this game simply because I can play witht the kids Simple as that Otherwise I dont have a peticular feel for this</td>\n",
       "      <td>Carcassonne</td>\n",
       "    </tr>\n",
       "    <tr>\n",
       "      <th>163997</th>\n",
       "      <td>5.0</td>\n",
       "      <td>This is also a good game for young kids if you take out the farmers</td>\n",
       "      <td>Carcassonne</td>\n",
       "    </tr>\n",
       "    <tr>\n",
       "      <th>165493</th>\n",
       "      <td>5.0</td>\n",
       "      <td>Second Euro game I ever played Not a ton of depth to it but its a good game to play with kids</td>\n",
       "      <td>Carcassonne</td>\n",
       "    </tr>\n",
       "    <tr>\n",
       "      <th>166150</th>\n",
       "      <td>5.0</td>\n",
       "      <td>Fun for the first  plays Expansions might add a play or   Unless you are playing with kids this game is painfully boring</td>\n",
       "      <td>Carcassonne</td>\n",
       "    </tr>\n",
       "    <tr>\n",
       "      <th>166442</th>\n",
       "      <td>5.0</td>\n",
       "      <td>Far too luckbased Yes many of the expansions increase strategy but Ive added five and theres still not enough strategy I bring it out for kids</td>\n",
       "      <td>Carcassonne</td>\n",
       "    </tr>\n",
       "  </tbody>\n",
       "</table>\n",
       "</div>"
      ],
      "text/plain": [
       "        rating  \\\n",
       "76614      5.0   \n",
       "76860      5.0   \n",
       "79435      5.0   \n",
       "80065      5.0   \n",
       "82266      4.0   \n",
       "163902     5.0   \n",
       "163997     5.0   \n",
       "165493     5.0   \n",
       "166150     5.0   \n",
       "166442     5.0   \n",
       "\n",
       "                                                                                                                                                                                         comment  \\\n",
       "76614   Great intro to Eurogames but gets old fast The dice rolls can of course make or break you so I dont like the random factor much I kept it as a good intro game with newbies and for kids   \n",
       "76860                                                Also one of my gateway games But is on the memorial part of my gamecollection Now I just play it with the kids once in a while and thats it   \n",
       "79435                                 Just dont find it very interesting Trading with other players often unpleasant Too long for what it is In contrast I rather like Catan Junior with my kids   \n",
       "80065     If you dont have an opinion already of Catan you are on the wrong website  I will always grab this game if I am playing with somebody who doesnt play board games It is great for kids   \n",
       "82266                                             After finally playing this game Im somewhat amazed that the hobby turned into what it is today  Once the kids have burned through this its out   \n",
       "163902                                                                 I like this game simply because I can play witht the kids Simple as that Otherwise I dont have a peticular feel for this    \n",
       "163997                                                                                                                       This is also a good game for young kids if you take out the farmers   \n",
       "165493                                                                                             Second Euro game I ever played Not a ton of depth to it but its a good game to play with kids   \n",
       "166150                                                                  Fun for the first  plays Expansions might add a play or   Unless you are playing with kids this game is painfully boring   \n",
       "166442                                            Far too luckbased Yes many of the expansions increase strategy but Ive added five and theres still not enough strategy I bring it out for kids   \n",
       "\n",
       "               Name  \n",
       "76614         Catan  \n",
       "76860         Catan  \n",
       "79435         Catan  \n",
       "80065         Catan  \n",
       "82266         Catan  \n",
       "163902  Carcassonne  \n",
       "163997  Carcassonne  \n",
       "165493  Carcassonne  \n",
       "166150  Carcassonne  \n",
       "166442  Carcassonne  "
      ]
     },
     "execution_count": 59,
     "metadata": {},
     "output_type": "execute_result"
    }
   ],
   "source": [
    "get_reviews_and_game(lambda x: \"kid\" in x, 200, max_rating=5).head(10)"
   ]
  },
  {
   "cell_type": "markdown",
   "metadata": {},
   "source": [
    "Da un'ulteriore analisi delle parole valutate negativamente, alcune risultano particolarmente interessanti:"
   ]
  },
  {
   "cell_type": "code",
   "execution_count": 60,
   "metadata": {},
   "outputs": [
    {
     "data": {
      "text/html": [
       "<div>\n",
       "<style scoped>\n",
       "    .dataframe tbody tr th:only-of-type {\n",
       "        vertical-align: middle;\n",
       "    }\n",
       "\n",
       "    .dataframe tbody tr th {\n",
       "        vertical-align: top;\n",
       "    }\n",
       "\n",
       "    .dataframe thead th {\n",
       "        text-align: right;\n",
       "    }\n",
       "</style>\n",
       "<table border=\"1\" class=\"dataframe\">\n",
       "  <thead>\n",
       "    <tr style=\"text-align: right;\">\n",
       "      <th></th>\n",
       "      <th>0</th>\n",
       "    </tr>\n",
       "  </thead>\n",
       "  <tbody>\n",
       "    <tr>\n",
       "      <th>random</th>\n",
       "      <td>-2.225761</td>\n",
       "    </tr>\n",
       "    <tr>\n",
       "      <th>repetitive</th>\n",
       "      <td>-1.243061</td>\n",
       "    </tr>\n",
       "    <tr>\n",
       "      <th>monopoly</th>\n",
       "      <td>-1.238774</td>\n",
       "    </tr>\n",
       "  </tbody>\n",
       "</table>\n",
       "</div>"
      ],
      "text/plain": [
       "                   0\n",
       "random     -2.225761\n",
       "repetitive -1.243061\n",
       "monopoly   -1.238774"
      ]
     },
     "execution_count": 60,
     "metadata": {},
     "output_type": "execute_result"
    }
   ],
   "source": [
    "get_k_words(regr_model_bi.best_estimator_.named_steps[\"regr\"],\n",
    "            regr_model_bi.best_estimator_.named_steps[\"vect\"],\n",
    "            best=False,\n",
    "            k=5000).loc[[\"random\", \"repetitive\", \"monopoly\"]]"
   ]
  },
  {
   "cell_type": "markdown",
   "metadata": {},
   "source": [
    "È interessante notare come il Monopoly sia considerato il gioco \"brutto\" per antonomasia (in maniera condivisibile o meno). Infatti, nonostante il gioco sia molto diffuso, generalmente giocatori con più esperienza ne apprezzano poco le meccaniche troppo dipendenti dal caso. Non stupisce quindi che anche la parola \"random\" compaia fra quelle valutate più negativamente."
   ]
  },
  {
   "cell_type": "code",
   "execution_count": 61,
   "metadata": {},
   "outputs": [
    {
     "data": {
      "text/html": [
       "<div>\n",
       "<style scoped>\n",
       "    .dataframe tbody tr th:only-of-type {\n",
       "        vertical-align: middle;\n",
       "    }\n",
       "\n",
       "    .dataframe tbody tr th {\n",
       "        vertical-align: top;\n",
       "    }\n",
       "\n",
       "    .dataframe thead th {\n",
       "        text-align: right;\n",
       "    }\n",
       "</style>\n",
       "<table border=\"1\" class=\"dataframe\">\n",
       "  <thead>\n",
       "    <tr style=\"text-align: right;\">\n",
       "      <th></th>\n",
       "      <th>rating</th>\n",
       "      <th>comment</th>\n",
       "      <th>Name</th>\n",
       "    </tr>\n",
       "  </thead>\n",
       "  <tbody>\n",
       "    <tr>\n",
       "      <th>76693</th>\n",
       "      <td>5.0</td>\n",
       "      <td>and people call risk a dice fest one die roll decides your resources i would rather play monopoly</td>\n",
       "      <td>Catan</td>\n",
       "    </tr>\n",
       "    <tr>\n",
       "      <th>76796</th>\n",
       "      <td>5.0</td>\n",
       "      <td>My first non traditional board game ie non warconflict based game Ive played this many more times than recorded here  Ive since moved on but a great game to play with those used to monopoly or snakes and ladders aka people who think games are for kids</td>\n",
       "      <td>Catan</td>\n",
       "    </tr>\n",
       "    <tr>\n",
       "      <th>81541</th>\n",
       "      <td>4.0</td>\n",
       "      <td>If you have bad dice karma dont play  However this game takes the concept behind monopoly and expands it in to a gamers game  Probably a very good game for introducing the family to more gamer friendly games</td>\n",
       "      <td>Catan</td>\n",
       "    </tr>\n",
       "    <tr>\n",
       "      <th>84142</th>\n",
       "      <td>3.0</td>\n",
       "      <td>Overrated Heavy luck elements Rather boring I understand why this game appeals to some but once you get into the hobby there are SO many better options This is like one step above monopoly for me</td>\n",
       "      <td>Catan</td>\n",
       "    </tr>\n",
       "    <tr>\n",
       "      <th>448386</th>\n",
       "      <td>2.0</td>\n",
       "      <td>This game will soon have sold as many copies as monopoly and is about as fun Like most classic board games its stunningly boring I will grudgingly play the app version with children or adults with severe cognitive disabilities but thats for their benefit not mine</td>\n",
       "      <td>Ticket to Ride</td>\n",
       "    </tr>\n",
       "    <tr>\n",
       "      <th>713380</th>\n",
       "      <td>5.0</td>\n",
       "      <td>Dubbed Monopoly for Angry People  Strictly better than monopoly strictly worse than most other things with a similar mechanic  Play Le Havre or Agricola instead</td>\n",
       "      <td>Power Grid</td>\n",
       "    </tr>\n",
       "    <tr>\n",
       "      <th>810522</th>\n",
       "      <td>4.0</td>\n",
       "      <td>I would never play this game unless its with children A boring slog with a few small rule additions that bring the game up from a  to a  The reason this game has sold so much is because its like catan its the monopoly of our generation For me that says it all</td>\n",
       "      <td>Ticket to Ride: Europe</td>\n",
       "    </tr>\n",
       "    <tr>\n",
       "      <th>1027135</th>\n",
       "      <td>3.0</td>\n",
       "      <td>I dont see the hype the symbols are terrible Id rather play monopoly   Although one of our BOP reviewers had a totally different opinion from me that you may want to check out if your interested in the game httpboardofplayingcomarchives</td>\n",
       "      <td>Race for the Galaxy</td>\n",
       "    </tr>\n",
       "    <tr>\n",
       "      <th>1282257</th>\n",
       "      <td>5.0</td>\n",
       "      <td>fun social game like monopoly and risk its all about what you can talk the other players into I rarely lose</td>\n",
       "      <td>Munchkin</td>\n",
       "    </tr>\n",
       "    <tr>\n",
       "      <th>1287451</th>\n",
       "      <td>4.0</td>\n",
       "      <td>This is the game that introduced me to stuff more complicated than monopoly  It started out really great but now I cant stand to play it  There are just so many better games</td>\n",
       "      <td>Munchkin</td>\n",
       "    </tr>\n",
       "  </tbody>\n",
       "</table>\n",
       "</div>"
      ],
      "text/plain": [
       "         rating  \\\n",
       "76693       5.0   \n",
       "76796       5.0   \n",
       "81541       4.0   \n",
       "84142       3.0   \n",
       "448386      2.0   \n",
       "713380      5.0   \n",
       "810522      4.0   \n",
       "1027135     3.0   \n",
       "1282257     5.0   \n",
       "1287451     4.0   \n",
       "\n",
       "                                                                                                                                                                                                                                                                         comment  \\\n",
       "76693                                                                                                                                                                          and people call risk a dice fest one die roll decides your resources i would rather play monopoly   \n",
       "76796                My first non traditional board game ie non warconflict based game Ive played this many more times than recorded here  Ive since moved on but a great game to play with those used to monopoly or snakes and ladders aka people who think games are for kids   \n",
       "81541                                                            If you have bad dice karma dont play  However this game takes the concept behind monopoly and expands it in to a gamers game  Probably a very good game for introducing the family to more gamer friendly games   \n",
       "84142                                                                        Overrated Heavy luck elements Rather boring I understand why this game appeals to some but once you get into the hobby there are SO many better options This is like one step above monopoly for me   \n",
       "448386   This game will soon have sold as many copies as monopoly and is about as fun Like most classic board games its stunningly boring I will grudgingly play the app version with children or adults with severe cognitive disabilities but thats for their benefit not mine   \n",
       "713380                                                                                                          Dubbed Monopoly for Angry People  Strictly better than monopoly strictly worse than most other things with a similar mechanic  Play Le Havre or Agricola instead   \n",
       "810522       I would never play this game unless its with children A boring slog with a few small rule additions that bring the game up from a  to a  The reason this game has sold so much is because its like catan its the monopoly of our generation For me that says it all   \n",
       "1027135                             I dont see the hype the symbols are terrible Id rather play monopoly   Although one of our BOP reviewers had a totally different opinion from me that you may want to check out if your interested in the game httpboardofplayingcomarchives   \n",
       "1282257                                                                                                                                                              fun social game like monopoly and risk its all about what you can talk the other players into I rarely lose   \n",
       "1287451                                                                                            This is the game that introduced me to stuff more complicated than monopoly  It started out really great but now I cant stand to play it  There are just so many better games   \n",
       "\n",
       "                           Name  \n",
       "76693                     Catan  \n",
       "76796                     Catan  \n",
       "81541                     Catan  \n",
       "84142                     Catan  \n",
       "448386           Ticket to Ride  \n",
       "713380               Power Grid  \n",
       "810522   Ticket to Ride: Europe  \n",
       "1027135     Race for the Galaxy  \n",
       "1282257                Munchkin  \n",
       "1287451                Munchkin  "
      ]
     },
     "execution_count": 61,
     "metadata": {},
     "output_type": "execute_result"
    }
   ],
   "source": [
    "get_reviews_and_game(lambda x: \"monopoly\" in x, 300, max_rating=5).head(10)"
   ]
  },
  {
   "cell_type": "code",
   "execution_count": 62,
   "metadata": {
    "scrolled": false
   },
   "outputs": [
    {
     "data": {
      "text/html": [
       "<div>\n",
       "<style scoped>\n",
       "    .dataframe tbody tr th:only-of-type {\n",
       "        vertical-align: middle;\n",
       "    }\n",
       "\n",
       "    .dataframe tbody tr th {\n",
       "        vertical-align: top;\n",
       "    }\n",
       "\n",
       "    .dataframe thead th {\n",
       "        text-align: right;\n",
       "    }\n",
       "</style>\n",
       "<table border=\"1\" class=\"dataframe\">\n",
       "  <thead>\n",
       "    <tr style=\"text-align: right;\">\n",
       "      <th></th>\n",
       "      <th>rating</th>\n",
       "      <th>comment</th>\n",
       "      <th>Name</th>\n",
       "    </tr>\n",
       "  </thead>\n",
       "  <tbody>\n",
       "    <tr>\n",
       "      <th>76135</th>\n",
       "      <td>5.0</td>\n",
       "      <td>Yeah my first germanstylegame  Its fun its fast and requires some thinking  The dicerandomness brings the score down a bit though  Also its a bit too long with  points first player to  points usually wins and its too dificult to catch up with lucky players getting ahead</td>\n",
       "      <td>Catan</td>\n",
       "    </tr>\n",
       "    <tr>\n",
       "      <th>76238</th>\n",
       "      <td>5.0</td>\n",
       "      <td>A very overrated game  Far too luck driven  You dont roll the dice nearly enough to flatten out the randomness  This ones filed with Monopoly  in the bin</td>\n",
       "      <td>Catan</td>\n",
       "    </tr>\n",
       "    <tr>\n",
       "      <th>76412</th>\n",
       "      <td>5.0</td>\n",
       "      <td>The random element of dice roles just plain bugs me</td>\n",
       "      <td>Catan</td>\n",
       "    </tr>\n",
       "    <tr>\n",
       "      <th>76525</th>\n",
       "      <td>5.0</td>\n",
       "      <td>Nice some player interaction  Unfortunately it is rather random and some players can be effectively prevented from winning early on and yet have to play out the whole game  The trading aspect is nice but with one person in a dominant board position it decreases greatly in importance</td>\n",
       "      <td>Catan</td>\n",
       "    </tr>\n",
       "    <tr>\n",
       "      <th>76614</th>\n",
       "      <td>5.0</td>\n",
       "      <td>Great intro to Eurogames but gets old fast The dice rolls can of course make or break you so I dont like the random factor much I kept it as a good intro game with newbies and for kids</td>\n",
       "      <td>Catan</td>\n",
       "    </tr>\n",
       "    <tr>\n",
       "      <th>76653</th>\n",
       "      <td>5.0</td>\n",
       "      <td>Too random for my tastes but a good introduction to more serious games Prefer to play with Cities  Knights</td>\n",
       "      <td>Catan</td>\n",
       "    </tr>\n",
       "    <tr>\n",
       "      <th>76672</th>\n",
       "      <td>5.0</td>\n",
       "      <td>I do not enjoy the randomness in this game compared to the other Euro games  Still a good game that I would recommend as a gateway game depending on the person</td>\n",
       "      <td>Catan</td>\n",
       "    </tr>\n",
       "    <tr>\n",
       "      <th>76971</th>\n",
       "      <td>5.0</td>\n",
       "      <td>ODd on this game in college and even then the random got to me There are just so few meaningful decisions This is still the best of the Catan games though</td>\n",
       "      <td>Catan</td>\n",
       "    </tr>\n",
       "    <tr>\n",
       "      <th>77313</th>\n",
       "      <td>5.0</td>\n",
       "      <td>Im finding that Im not a big fan of negotiation games and between that and the randomness added by the die rolls on this one Catan isnt a favorite of mine</td>\n",
       "      <td>Catan</td>\n",
       "    </tr>\n",
       "    <tr>\n",
       "      <th>77437</th>\n",
       "      <td>5.0</td>\n",
       "      <td>A solid game especially for people just entering the eurogame market  For more experienced gamers the random dice roll mechanic is a dealbreaker</td>\n",
       "      <td>Catan</td>\n",
       "    </tr>\n",
       "  </tbody>\n",
       "</table>\n",
       "</div>"
      ],
      "text/plain": [
       "       rating  \\\n",
       "76135     5.0   \n",
       "76238     5.0   \n",
       "76412     5.0   \n",
       "76525     5.0   \n",
       "76614     5.0   \n",
       "76653     5.0   \n",
       "76672     5.0   \n",
       "76971     5.0   \n",
       "77313     5.0   \n",
       "77437     5.0   \n",
       "\n",
       "                                                                                                                                                                                                                                                                                           comment  \\\n",
       "76135               Yeah my first germanstylegame  Its fun its fast and requires some thinking  The dicerandomness brings the score down a bit though  Also its a bit too long with  points first player to  points usually wins and its too dificult to catch up with lucky players getting ahead   \n",
       "76238                                                                                                                                    A very overrated game  Far too luck driven  You dont roll the dice nearly enough to flatten out the randomness  This ones filed with Monopoly  in the bin   \n",
       "76412                                                                                                                                                                                                                                          The random element of dice roles just plain bugs me   \n",
       "76525  Nice some player interaction  Unfortunately it is rather random and some players can be effectively prevented from winning early on and yet have to play out the whole game  The trading aspect is nice but with one person in a dominant board position it decreases greatly in importance   \n",
       "76614                                                                                                     Great intro to Eurogames but gets old fast The dice rolls can of course make or break you so I dont like the random factor much I kept it as a good intro game with newbies and for kids   \n",
       "76653                                                                                                                                                                                   Too random for my tastes but a good introduction to more serious games Prefer to play with Cities  Knights   \n",
       "76672                                                                                                                              I do not enjoy the randomness in this game compared to the other Euro games  Still a good game that I would recommend as a gateway game depending on the person   \n",
       "76971                                                                                                                                   ODd on this game in college and even then the random got to me There are just so few meaningful decisions This is still the best of the Catan games though   \n",
       "77313                                                                                                                                   Im finding that Im not a big fan of negotiation games and between that and the randomness added by the die rolls on this one Catan isnt a favorite of mine   \n",
       "77437                                                                                                                                             A solid game especially for people just entering the eurogame market  For more experienced gamers the random dice roll mechanic is a dealbreaker   \n",
       "\n",
       "        Name  \n",
       "76135  Catan  \n",
       "76238  Catan  \n",
       "76412  Catan  \n",
       "76525  Catan  \n",
       "76614  Catan  \n",
       "76653  Catan  \n",
       "76672  Catan  \n",
       "76971  Catan  \n",
       "77313  Catan  \n",
       "77437  Catan  "
      ]
     },
     "execution_count": 62,
     "metadata": {},
     "output_type": "execute_result"
    }
   ],
   "source": [
    "get_reviews_and_game(lambda x: \"random\" in x, 300, max_rating=5).head(10)"
   ]
  },
  {
   "cell_type": "code",
   "execution_count": 63,
   "metadata": {},
   "outputs": [
    {
     "data": {
      "text/html": [
       "<div>\n",
       "<style scoped>\n",
       "    .dataframe tbody tr th:only-of-type {\n",
       "        vertical-align: middle;\n",
       "    }\n",
       "\n",
       "    .dataframe tbody tr th {\n",
       "        vertical-align: top;\n",
       "    }\n",
       "\n",
       "    .dataframe thead th {\n",
       "        text-align: right;\n",
       "    }\n",
       "</style>\n",
       "<table border=\"1\" class=\"dataframe\">\n",
       "  <thead>\n",
       "    <tr style=\"text-align: right;\">\n",
       "      <th></th>\n",
       "      <th>rating</th>\n",
       "      <th>comment</th>\n",
       "      <th>Name</th>\n",
       "    </tr>\n",
       "  </thead>\n",
       "  <tbody>\n",
       "    <tr>\n",
       "      <th>163876</th>\n",
       "      <td>5.0</td>\n",
       "      <td>Im played out on Carcassonne  Ill admit part of that is Im sick of seeing expansionsvariantsetc taking up shelf space at the shops but part of it is just repetitive game play</td>\n",
       "      <td>Carcassonne</td>\n",
       "    </tr>\n",
       "    <tr>\n",
       "      <th>164134</th>\n",
       "      <td>5.0</td>\n",
       "      <td>Considered as one of the better Eurogames but to me  Its too repetitive  Player interaction is limited  The farmers can make too much difference  Players choices have insufficient impact on the game</td>\n",
       "      <td>Carcassonne</td>\n",
       "    </tr>\n",
       "    <tr>\n",
       "      <th>166403</th>\n",
       "      <td>5.0</td>\n",
       "      <td>Classic gateway to eurogames  Tiles placing classic   Quite repetitive mechanics  With much luck involved  Player count performance NO</td>\n",
       "      <td>Carcassonne</td>\n",
       "    </tr>\n",
       "    <tr>\n",
       "      <th>167011</th>\n",
       "      <td>4.5</td>\n",
       "      <td>okay to play occasionally  but if you play this more then once every other week it gets mundane and boring fast  even if you buy all the add ons  Its not a bad game for people new to board games just that it feels a little repetitive to me</td>\n",
       "      <td>Carcassonne</td>\n",
       "    </tr>\n",
       "    <tr>\n",
       "      <th>167013</th>\n",
       "      <td>4.5</td>\n",
       "      <td>Doesnt do much for me at all  Its nice to look at has a cooperative element in building the common map and is easy to pick up except for farmer scoring but its just not that much fun  Obviously a lot of people love it but to me its rather boring and repetitive</td>\n",
       "      <td>Carcassonne</td>\n",
       "    </tr>\n",
       "    <tr>\n",
       "      <th>168247</th>\n",
       "      <td>3.5</td>\n",
       "      <td>Scoring the Game  I experienced it as a new gamer and even then it did little for me Got repetitive after second playthrough For the first half of the game you place tiles where appropriate for the second half you count scores</td>\n",
       "      <td>Carcassonne</td>\n",
       "    </tr>\n",
       "    <tr>\n",
       "      <th>248415</th>\n",
       "      <td>5.0</td>\n",
       "      <td>My favourite gateway game Its easy for people not used to playing board games to play a cooperative game and this one has the right balance of difficulty That said it does become repetitive with repeated games and has the danger of one person controlling the strategy</td>\n",
       "      <td>Pandemic</td>\n",
       "    </tr>\n",
       "    <tr>\n",
       "      <th>317788</th>\n",
       "      <td>5.0</td>\n",
       "      <td>Quick simple cardlaying game Improved with the expansions   Feels too solitaire and binary in decisionmaking Quickly becomes repetitive</td>\n",
       "      <td>7 Wonders</td>\n",
       "    </tr>\n",
       "    <tr>\n",
       "      <th>319233</th>\n",
       "      <td>4.0</td>\n",
       "      <td>This is a nifty game crammed in a minute package  It is enjoyable but I need to play it with more than  and  players because as of right now it is extremely repetitive and quite stale</td>\n",
       "      <td>7 Wonders</td>\n",
       "    </tr>\n",
       "    <tr>\n",
       "      <th>319721</th>\n",
       "      <td>4.0</td>\n",
       "      <td>We used to play this a lot I guess we lost interest It gets repetitive and it isnt specially fun It is long also</td>\n",
       "      <td>7 Wonders</td>\n",
       "    </tr>\n",
       "  </tbody>\n",
       "</table>\n",
       "</div>"
      ],
      "text/plain": [
       "        rating  \\\n",
       "163876     5.0   \n",
       "164134     5.0   \n",
       "166403     5.0   \n",
       "167011     4.5   \n",
       "167013     4.5   \n",
       "168247     3.5   \n",
       "248415     5.0   \n",
       "317788     5.0   \n",
       "319233     4.0   \n",
       "319721     4.0   \n",
       "\n",
       "                                                                                                                                                                                                                                                                            comment  \\\n",
       "163876                                                                                               Im played out on Carcassonne  Ill admit part of that is Im sick of seeing expansionsvariantsetc taking up shelf space at the shops but part of it is just repetitive game play   \n",
       "164134                                                                       Considered as one of the better Eurogames but to me  Its too repetitive  Player interaction is limited  The farmers can make too much difference  Players choices have insufficient impact on the game   \n",
       "166403                                                                                                                                       Classic gateway to eurogames  Tiles placing classic   Quite repetitive mechanics  With much luck involved  Player count performance NO   \n",
       "167011                            okay to play occasionally  but if you play this more then once every other week it gets mundane and boring fast  even if you buy all the add ons  Its not a bad game for people new to board games just that it feels a little repetitive to me     \n",
       "167013         Doesnt do much for me at all  Its nice to look at has a cooperative element in building the common map and is easy to pick up except for farmer scoring but its just not that much fun  Obviously a lot of people love it but to me its rather boring and repetitive   \n",
       "168247                                           Scoring the Game  I experienced it as a new gamer and even then it did little for me Got repetitive after second playthrough For the first half of the game you place tiles where appropriate for the second half you count scores   \n",
       "248415  My favourite gateway game Its easy for people not used to playing board games to play a cooperative game and this one has the right balance of difficulty That said it does become repetitive with repeated games and has the danger of one person controlling the strategy   \n",
       "317788                                                                                                                                      Quick simple cardlaying game Improved with the expansions   Feels too solitaire and binary in decisionmaking Quickly becomes repetitive   \n",
       "319233                                                                                      This is a nifty game crammed in a minute package  It is enjoyable but I need to play it with more than  and  players because as of right now it is extremely repetitive and quite stale   \n",
       "319721                                                                                                                                                             We used to play this a lot I guess we lost interest It gets repetitive and it isnt specially fun It is long also   \n",
       "\n",
       "               Name  \n",
       "163876  Carcassonne  \n",
       "164134  Carcassonne  \n",
       "166403  Carcassonne  \n",
       "167011  Carcassonne  \n",
       "167013  Carcassonne  \n",
       "168247  Carcassonne  \n",
       "248415     Pandemic  \n",
       "317788    7 Wonders  \n",
       "319233    7 Wonders  \n",
       "319721    7 Wonders  "
      ]
     },
     "execution_count": 63,
     "metadata": {},
     "output_type": "execute_result"
    }
   ],
   "source": [
    "get_reviews_and_game(lambda x: \"repetitive\" in x, 300, max_rating=5).head(10)"
   ]
  },
  {
   "cell_type": "markdown",
   "metadata": {},
   "source": [
    "## 2. Modello di regressione con bigrams e stemming\n",
    "Anche in questo modello si possono notare alcuni aspetti interessanti, le 10 parole più positivamente valutate dal modello `regr_model_stem` sono:"
   ]
  },
  {
   "cell_type": "code",
   "execution_count": 64,
   "metadata": {},
   "outputs": [
    {
     "data": {
      "text/html": [
       "<div>\n",
       "<style scoped>\n",
       "    .dataframe tbody tr th:only-of-type {\n",
       "        vertical-align: middle;\n",
       "    }\n",
       "\n",
       "    .dataframe tbody tr th {\n",
       "        vertical-align: top;\n",
       "    }\n",
       "\n",
       "    .dataframe thead th {\n",
       "        text-align: right;\n",
       "    }\n",
       "</style>\n",
       "<table border=\"1\" class=\"dataframe\">\n",
       "  <thead>\n",
       "    <tr style=\"text-align: right;\">\n",
       "      <th></th>\n",
       "      <th>0</th>\n",
       "    </tr>\n",
       "  </thead>\n",
       "  <tbody>\n",
       "    <tr>\n",
       "      <th>great</th>\n",
       "      <td>3.247359</td>\n",
       "    </tr>\n",
       "    <tr>\n",
       "      <th>excel</th>\n",
       "      <td>2.947844</td>\n",
       "    </tr>\n",
       "    <tr>\n",
       "      <th>love</th>\n",
       "      <td>2.742561</td>\n",
       "    </tr>\n",
       "    <tr>\n",
       "      <th>enjoy</th>\n",
       "      <td>2.231918</td>\n",
       "    </tr>\n",
       "    <tr>\n",
       "      <th>solid</th>\n",
       "      <td>2.098111</td>\n",
       "    </tr>\n",
       "    <tr>\n",
       "      <th>expans</th>\n",
       "      <td>1.985526</td>\n",
       "    </tr>\n",
       "    <tr>\n",
       "      <th>best</th>\n",
       "      <td>1.868340</td>\n",
       "    </tr>\n",
       "    <tr>\n",
       "      <th>favorit</th>\n",
       "      <td>1.866054</td>\n",
       "    </tr>\n",
       "    <tr>\n",
       "      <th>fun</th>\n",
       "      <td>1.841316</td>\n",
       "    </tr>\n",
       "    <tr>\n",
       "      <th>nice</th>\n",
       "      <td>1.816964</td>\n",
       "    </tr>\n",
       "    <tr>\n",
       "      <th>well</th>\n",
       "      <td>1.742247</td>\n",
       "    </tr>\n",
       "    <tr>\n",
       "      <th>fantast</th>\n",
       "      <td>1.675434</td>\n",
       "    </tr>\n",
       "    <tr>\n",
       "      <th>good</th>\n",
       "      <td>1.591828</td>\n",
       "    </tr>\n",
       "    <tr>\n",
       "      <th>differ</th>\n",
       "      <td>1.529728</td>\n",
       "    </tr>\n",
       "    <tr>\n",
       "      <th>fun game</th>\n",
       "      <td>1.472344</td>\n",
       "    </tr>\n",
       "  </tbody>\n",
       "</table>\n",
       "</div>"
      ],
      "text/plain": [
       "                 0\n",
       "great     3.247359\n",
       "excel     2.947844\n",
       "love      2.742561\n",
       "enjoy     2.231918\n",
       "solid     2.098111\n",
       "expans    1.985526\n",
       "best      1.868340\n",
       "favorit   1.866054\n",
       "fun       1.841316\n",
       "nice      1.816964\n",
       "well      1.742247\n",
       "fantast   1.675434\n",
       "good      1.591828\n",
       "differ    1.529728\n",
       "fun game  1.472344"
      ]
     },
     "execution_count": 64,
     "metadata": {},
     "output_type": "execute_result"
    }
   ],
   "source": [
    "get_k_words(regr_model_stem.best_estimator_.named_steps[\"regr\"],\n",
    "            regr_model_stem.best_estimator_.named_steps[\"vect\"])"
   ]
  },
  {
   "cell_type": "markdown",
   "metadata": {},
   "source": [
    "Sono presenti molte radici in comune col modello precedente, tuttavia si può notare una nuova parola interessante: \"expans\". Analizzando le recensioni si può capire meglio il significato di questa radice:"
   ]
  },
  {
   "cell_type": "code",
   "execution_count": 65,
   "metadata": {},
   "outputs": [
    {
     "data": {
      "text/html": [
       "<div>\n",
       "<style scoped>\n",
       "    .dataframe tbody tr th:only-of-type {\n",
       "        vertical-align: middle;\n",
       "    }\n",
       "\n",
       "    .dataframe tbody tr th {\n",
       "        vertical-align: top;\n",
       "    }\n",
       "\n",
       "    .dataframe thead th {\n",
       "        text-align: right;\n",
       "    }\n",
       "</style>\n",
       "<table border=\"1\" class=\"dataframe\">\n",
       "  <thead>\n",
       "    <tr style=\"text-align: right;\">\n",
       "      <th></th>\n",
       "      <th>rating</th>\n",
       "      <th>comment</th>\n",
       "      <th>Name</th>\n",
       "    </tr>\n",
       "  </thead>\n",
       "  <tbody>\n",
       "    <tr>\n",
       "      <th>148</th>\n",
       "      <td>10.0</td>\n",
       "      <td>The  rating is with the  player expansion and whether playing Seafahrers or not Without the expansion  it is still a  I prefer games with more than</td>\n",
       "      <td>Catan</td>\n",
       "    </tr>\n",
       "    <tr>\n",
       "      <th>168</th>\n",
       "      <td>10.0</td>\n",
       "      <td>The game and the expansions are brilliant Still one of my top ten games hey maybe we ought to play this tomorrow night</td>\n",
       "      <td>Catan</td>\n",
       "    </tr>\n",
       "    <tr>\n",
       "      <th>416</th>\n",
       "      <td>10.0</td>\n",
       "      <td>Played this a lot and burned out Still up for a game now and then if its fast Dont really care for all of the expansions  Play with my kids from time to time  Rating  Suggest</td>\n",
       "      <td>Catan</td>\n",
       "    </tr>\n",
       "    <tr>\n",
       "      <th>512</th>\n",
       "      <td>10.0</td>\n",
       "      <td>My favorite all time gameno expansions  player  Nowadays I like to play fast  minutes with experienced players</td>\n",
       "      <td>Catan</td>\n",
       "    </tr>\n",
       "    <tr>\n",
       "      <th>783</th>\n",
       "      <td>10.0</td>\n",
       "      <td>Although I like the Cities  Knights expansion nothing beats the basic game  Perfectly adapts to  players with simple variant</td>\n",
       "      <td>Catan</td>\n",
       "    </tr>\n",
       "    <tr>\n",
       "      <th>...</th>\n",
       "      <td>...</td>\n",
       "      <td>...</td>\n",
       "      <td>...</td>\n",
       "    </tr>\n",
       "    <tr>\n",
       "      <th>13102750</th>\n",
       "      <td>7.0</td>\n",
       "      <td>Good expansion for Mystick Domination  I wished the Major Arcana cards would have different abilities in this set so you can pick and choose but whaddyagonnado</td>\n",
       "      <td>Mystick Companion</td>\n",
       "    </tr>\n",
       "    <tr>\n",
       "      <th>13132447</th>\n",
       "      <td>7.0</td>\n",
       "      <td>Excellent game Light civ game played with cards Gives you the feeling of civ building expansion conquest and culture Must get professionally produced by a larger company Home made version</td>\n",
       "      <td>Age of Heroes</td>\n",
       "    </tr>\n",
       "    <tr>\n",
       "      <th>13154931</th>\n",
       "      <td>7.5</td>\n",
       "      <td>Expensive but extremely beautiful Meanwhile I got the expansion SuperQuintillions as well If you are fond of wooden games and puzzles you should have a closer look</td>\n",
       "      <td>Quintillions</td>\n",
       "    </tr>\n",
       "    <tr>\n",
       "      <th>13161996</th>\n",
       "      <td>9.0</td>\n",
       "      <td>Lack of dice only thing preventing me from giving this game my first  ever Hopefully the expansion will correct this minor design flaw Really feels like your fighting the Imperial Fleet</td>\n",
       "      <td>Admiral Ackbar \"It's a TRAP!\" GAME</td>\n",
       "    </tr>\n",
       "    <tr>\n",
       "      <th>13168132</th>\n",
       "      <td>7.5</td>\n",
       "      <td>We really enjoyed these games quick to learn fast and portable Looking forward to the expansion</td>\n",
       "      <td>Aether Captains: Triad</td>\n",
       "    </tr>\n",
       "  </tbody>\n",
       "</table>\n",
       "<p>11963 rows × 3 columns</p>\n",
       "</div>"
      ],
      "text/plain": [
       "          rating  \\\n",
       "148         10.0   \n",
       "168         10.0   \n",
       "416         10.0   \n",
       "512         10.0   \n",
       "783         10.0   \n",
       "...          ...   \n",
       "13102750     7.0   \n",
       "13132447     7.0   \n",
       "13154931     7.5   \n",
       "13161996     9.0   \n",
       "13168132     7.5   \n",
       "\n",
       "                                                                                                                                                                                               comment  \\\n",
       "148                                               The  rating is with the  player expansion and whether playing Seafahrers or not Without the expansion  it is still a  I prefer games with more than    \n",
       "168                                                                             The game and the expansions are brilliant Still one of my top ten games hey maybe we ought to play this tomorrow night   \n",
       "416                     Played this a lot and burned out Still up for a game now and then if its fast Dont really care for all of the expansions  Play with my kids from time to time  Rating  Suggest   \n",
       "512                                                                                  My favorite all time gameno expansions  player  Nowadays I like to play fast  minutes with experienced players      \n",
       "783                                                                       Although I like the Cities  Knights expansion nothing beats the basic game  Perfectly adapts to  players with simple variant   \n",
       "...                                                                                                                                                                                                ...   \n",
       "13102750                               Good expansion for Mystick Domination  I wished the Major Arcana cards would have different abilities in this set so you can pick and choose but whaddyagonnado   \n",
       "13132447  Excellent game Light civ game played with cards Gives you the feeling of civ building expansion conquest and culture Must get professionally produced by a larger company Home made version    \n",
       "13154931                         Expensive but extremely beautiful Meanwhile I got the expansion SuperQuintillions as well If you are fond of wooden games and puzzles you should have a closer look     \n",
       "13161996    Lack of dice only thing preventing me from giving this game my first  ever Hopefully the expansion will correct this minor design flaw Really feels like your fighting the Imperial Fleet    \n",
       "13168132                                                                                             We really enjoyed these games quick to learn fast and portable Looking forward to the expansion     \n",
       "\n",
       "                                        Name  \n",
       "148                                    Catan  \n",
       "168                                    Catan  \n",
       "416                                    Catan  \n",
       "512                                    Catan  \n",
       "783                                    Catan  \n",
       "...                                      ...  \n",
       "13102750                   Mystick Companion  \n",
       "13132447                       Age of Heroes  \n",
       "13154931                        Quintillions  \n",
       "13161996  Admiral Ackbar \"It's a TRAP!\" GAME  \n",
       "13168132              Aether Captains: Triad  \n",
       "\n",
       "[11963 rows x 3 columns]"
      ]
     },
     "execution_count": 65,
     "metadata": {},
     "output_type": "execute_result"
    }
   ],
   "source": [
    "get_reviews_and_game(lambda x: \"expans\" in x, 200, min_rating=7)"
   ]
  },
  {
   "cell_type": "markdown",
   "metadata": {},
   "source": [
    "Nelle recensioni che utilizzano questa parola si può notare come spesso venga espresso il desiderio di avere un'espansione o come il gioco sia migliorato con l'aggiunta di una espansione. È interessante quindi notare come, grazie al modello di classificazione, si sia potuto evidenziare un trend altrimenti difficile da scoprire leggendo manualmente delle recensioni.\n",
    "\n",
    "Le parole valutate più negativamente sono in gran parte sovrapponibili con quelle ottenute dal modello che non fa uso di stemming:"
   ]
  },
  {
   "cell_type": "code",
   "execution_count": 66,
   "metadata": {
    "scrolled": false
   },
   "outputs": [
    {
     "data": {
      "text/html": [
       "<div>\n",
       "<style scoped>\n",
       "    .dataframe tbody tr th:only-of-type {\n",
       "        vertical-align: middle;\n",
       "    }\n",
       "\n",
       "    .dataframe tbody tr th {\n",
       "        vertical-align: top;\n",
       "    }\n",
       "\n",
       "    .dataframe thead th {\n",
       "        text-align: right;\n",
       "    }\n",
       "</style>\n",
       "<table border=\"1\" class=\"dataframe\">\n",
       "  <thead>\n",
       "    <tr style=\"text-align: right;\">\n",
       "      <th></th>\n",
       "      <th>0</th>\n",
       "    </tr>\n",
       "  </thead>\n",
       "  <tbody>\n",
       "    <tr>\n",
       "      <th>bore</th>\n",
       "      <td>-4.173116</td>\n",
       "    </tr>\n",
       "    <tr>\n",
       "      <th>kid</th>\n",
       "      <td>-2.441161</td>\n",
       "    </tr>\n",
       "    <tr>\n",
       "      <th>didnt</th>\n",
       "      <td>-2.274533</td>\n",
       "    </tr>\n",
       "    <tr>\n",
       "      <th>random</th>\n",
       "      <td>-2.165755</td>\n",
       "    </tr>\n",
       "    <tr>\n",
       "      <th>dull</th>\n",
       "      <td>-2.121872</td>\n",
       "    </tr>\n",
       "    <tr>\n",
       "      <th>noth</th>\n",
       "      <td>-2.074200</td>\n",
       "    </tr>\n",
       "    <tr>\n",
       "      <th>much</th>\n",
       "      <td>-1.876761</td>\n",
       "    </tr>\n",
       "    <tr>\n",
       "      <th>isnt</th>\n",
       "      <td>-1.791567</td>\n",
       "    </tr>\n",
       "    <tr>\n",
       "      <th>dont</th>\n",
       "      <td>-1.763679</td>\n",
       "    </tr>\n",
       "    <tr>\n",
       "      <th>idea</th>\n",
       "      <td>-1.755043</td>\n",
       "    </tr>\n",
       "    <tr>\n",
       "      <th>bad</th>\n",
       "      <td>-1.725013</td>\n",
       "    </tr>\n",
       "    <tr>\n",
       "      <th>lack</th>\n",
       "      <td>-1.627060</td>\n",
       "    </tr>\n",
       "    <tr>\n",
       "      <th>disappoint</th>\n",
       "      <td>-1.625580</td>\n",
       "    </tr>\n",
       "    <tr>\n",
       "      <th>hate</th>\n",
       "      <td>-1.598847</td>\n",
       "    </tr>\n",
       "    <tr>\n",
       "      <th>ani</th>\n",
       "      <td>-1.559695</td>\n",
       "    </tr>\n",
       "  </tbody>\n",
       "</table>\n",
       "</div>"
      ],
      "text/plain": [
       "                   0\n",
       "bore       -4.173116\n",
       "kid        -2.441161\n",
       "didnt      -2.274533\n",
       "random     -2.165755\n",
       "dull       -2.121872\n",
       "noth       -2.074200\n",
       "much       -1.876761\n",
       "isnt       -1.791567\n",
       "dont       -1.763679\n",
       "idea       -1.755043\n",
       "bad        -1.725013\n",
       "lack       -1.627060\n",
       "disappoint -1.625580\n",
       "hate       -1.598847\n",
       "ani        -1.559695"
      ]
     },
     "execution_count": 66,
     "metadata": {},
     "output_type": "execute_result"
    }
   ],
   "source": [
    "get_k_words(regr_model_stem.best_estimator_.named_steps[\"regr\"],\n",
    "            regr_model_stem.best_estimator_.named_steps[\"vect\"],\n",
    "            best=False)"
   ]
  },
  {
   "cell_type": "markdown",
   "metadata": {},
   "source": [
    "***\n",
    "# Conclusioni\n",
    "Le grandi dimensioni del dataframe hanno posto alcune sfide, già dalla fase dell'ottimizzazione in memoria dei dati. Tuttavia, l'abbondanza di recensioni ha permesso di estrarre informazioni interessanti. I modelli di classificazione ottenuti hanno mostrato una buona accuratezza, considerando anche il grande sbilanciamento delle classi; infine, grazie al grande numero di recensioni si è potuto mantenere un test set di dimensione sufficiente a ridurre notevolmente gli intervalli di confidenza. \n",
    "\n",
    "Nel complesso sono soddisfatto del lavoro svolto e di aver provato a utilizzare un classificatore differente dalla regresione logistica non affrontato a lezione. Dato l'interesse personale per i dati analizzati sarebbe interessante svolgere ulteriori approfondimenti e analisi."
   ]
  },
  {
   "cell_type": "markdown",
   "metadata": {},
   "source": [
    "## 1. Possibili sviluppi\n",
    "Viste le grandi dimensioni del dataframe e il numero di recensioni (anche senza commento oltre 13 milioni) si potrebbe realizzare un sistema di recommendation per giochi da tavolo (model based per non incorrere nella maledizione della dimensionalità).\n",
    "\n",
    "Invece, per proseguire nell'ambito del NLP, si potrebbe realizzare un sistema che, partendo da una stringa in linguaggio naturale, possa consigliare dei giochi in base alle recensioni positive più somiglianti (l'idea viene dal <a href=\"https://towardsdatascience.com/perfume-recommendations-using-natural-language-processing-ad3e6736074c\">seguente articolo</a> che sfrutta anche LSA)."
   ]
  }
 ],
 "metadata": {
  "kernelspec": {
   "display_name": "Python 3",
   "language": "python",
   "name": "python3"
  },
  "language_info": {
   "codemirror_mode": {
    "name": "ipython",
    "version": 3
   },
   "file_extension": ".py",
   "mimetype": "text/x-python",
   "name": "python",
   "nbconvert_exporter": "python",
   "pygments_lexer": "ipython3",
   "version": "3.7.6"
  }
 },
 "nbformat": 4,
 "nbformat_minor": 4
}
